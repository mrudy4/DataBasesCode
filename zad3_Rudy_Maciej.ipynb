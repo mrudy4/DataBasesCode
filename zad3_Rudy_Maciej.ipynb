{
 "cells": [
  {
   "cell_type": "markdown",
   "id": "b6ba8ba6-38c2-49f4-b439-301a202dd203",
   "metadata": {},
   "source": [
    "# Zadanie\n",
    "\",\n",
    "\"\n",
    "\",\n",
    "\"- To jest szablon zadania - wypełnij przed wysłaniem\n",
    "\",\n",
    "\"- Zadanie polega na opracowaniu bazy danych klucz wartość oraz konfiguracji środowiska (serwera redis) i przedstawieniu wykonanej bazy.\n",
    "\",\n",
    "\"\n",
    "\",\n",
    "\" 1. jakie zapytanie będzie przyśpieszane (pojedyncze rekordy)?   {ocena 3.0-3.5}\n",
    "\",\n",
    "\" 2. jakie zapytanie będzie przyśpieszane (kilka rekordów)?    {ocena 3.0-4.5}\n",
    "\",\n",
    "\" 3. jakie zapytanie będzie przyśpieszane (złożone zapytanie np.: z joinem)?    {ocena 3.0-5.0}\""
   ]
  },
  {
   "cell_type": "markdown",
   "id": "77ad46d5-ffd0-4735-a3dd-db419450cdd0",
   "metadata": {},
   "source": [
    "\"Opis:\n",
    "\",\n",
    "\"-  Wykonaj bazę klucz wartość przyśpieszającą komunikację z Twoją bazę danych. Waro skorzystać z przygotowanej wcześniej bazy danych. Zastanów sie które zapytania będą najczęściej wykonywane, albo które będą wymagały dłuższego czasu ich wykonania. Dla takich zapytań napisz w notatniku metody pozwalające na przechowanie wyników zapytań w bazie redis. Opracuj rodzaj kluczy wg. których będziesz identyfikować odpowiednie dane w bazie redis.\n",
    "\",\n",
    "\"\n",
    "\",\n",
    "\" - W szablonie zadania opisz przynajmniej 3 optymalizowane zapytania,\n",
    "\",\n",
    "\" - oprogramuj zadanie,\n",
    "\",\n",
    "\" - prześlij wypełniony notatnik do naszego kursu online,\n",
    "\",\n",
    "\" - przedstaw działające zadanie na zajęciach laboratoryjnych,\n",
    "\",\n",
    "\" \n",
    "\",\n",
    "\"- Nazwa pliku notatnika: zad3_nazwisko_imie.ipynb \""
   ]
  },
  {
   "cell_type": "markdown",
   "id": "5ea65a04-a8bd-427d-b409-4714ebbc419a",
   "metadata": {},
   "source": [
    "## Opis rozwiązania (wypełnia student)\n",
    "\",\n",
    "\"\n",
    "\",\n",
    "\"1. Autor: Maciej Rudy\n",
    "\",\n",
    "\" - ...........................\n",
    "\",\n",
    "\"2. jakie zadanie będzie rozwiązywane?\n",
    "\",\n",
    "\" 1. optymalizacja wyciągania danych z tabeli Stock\n",
    "\",\n",
    "\" 2. wyciąganie danych z tabeli Employees - stanowisko\n",
    "\",\n",
    "\" 3. wyciągany sprzedaży dla fabryk"
   ]
  },
  {
   "cell_type": "code",
   "execution_count": 1,
   "id": "76fe3453-a9c4-4a65-9af3-cc5c79989f0b",
   "metadata": {},
   "outputs": [],
   "source": [
    "# niezbędne importy\n",
    "import redis\n",
    "import cx_Oracle\n",
    "import numpy as np\n",
    "import pandas as pd\n",
    "import matplotlib.pyplot as plt\n",
    "import pickle"
   ]
  },
  {
   "cell_type": "code",
   "execution_count": 3,
   "id": "2335b34c-952b-4581-9c8d-e8959dab003d",
   "metadata": {},
   "outputs": [],
   "source": [
    "# połączenie z bazą sql\n",
    "connection = cx_Oracle.connect(user=\"s108261\", password=\"s108261\",\n",
    "                               dsn=\"217.173.198.135:1521/tpdb\")\n",
    "cursor = connection.cursor()\n",
    "cursor.execute(\"ALTER SESSION SET nls_date_format='YYYY-MM-DD'\")"
   ]
  },
  {
   "cell_type": "code",
   "execution_count": 4,
   "id": "ae6a6648-f3ab-429f-a425-8cb24172962d",
   "metadata": {},
   "outputs": [],
   "source": [
    "# połączenie z bazą redis\n",
    "r = redis.Redis(host='localhost', port=6379, db=0)"
   ]
  },
  {
   "cell_type": "code",
   "execution_count": 5,
   "id": "1532252d-4d3e-442a-8224-8b8ebcd66660",
   "metadata": {},
   "outputs": [],
   "source": [
    "# Entry values\n",
    "factory = 'Hybrid Oak'\n",
    "dateS = '2020-11-30'\n",
    "dateT = '2023-11-30'\n",
    "\n",
    "name = \"Karol\"\n",
    "surname = \"Strognell\""
   ]
  },
  {
   "cell_type": "code",
   "execution_count": 6,
   "id": "902edc46-3046-4aa9-aa42-7c2e85fd80df",
   "metadata": {},
   "outputs": [],
   "source": [
    "# Common function\n",
    "def sendToCache(index, data):\n",
    "    try:\n",
    "        r.set(index, data)\n",
    "        print(\"success\")\n",
    "        return 0\n",
    "    except:\n",
    "        print(\"failed\")\n",
    "        return 1"
   ]
  },
  {
   "cell_type": "code",
   "execution_count": 12,
   "id": "1e563c76-e9ed-4344-a3e6-7cf1e201ffff",
   "metadata": {},
   "outputs": [
    {
     "name": "stdout",
     "output_type": "stream",
     "text": [
      "success\n",
      "Taken from Ocarle DB, pushed to cache\n",
      "<class 'pandas.core.frame.DataFrame'>\n",
      "   SERIALNUMBER_ID       SERIALNUMBER PRODUCTION_DATE  FACTORY_ID  SKU_ID  \\\n",
      "0              673  WAUSGAFBXAN414309      2023-05-22          20      52   \n",
      "1              185  5UXZV4C51BL480539      2021-01-09          20      40   \n",
      "2              352  YV1612FH5E2535721      2023-07-04          20       3   \n",
      "3              584  1G6AC5SXXF0454738      2021-01-07          20      83   \n",
      "\n",
      "   S_MEASURE_ID  FACTORY_ID        NAME COUNTRY POSTAL_CODE       CITY  \n",
      "0           619          20  Hybrid Oak  Poland      27-420  Bodzechów  \n",
      "1           409          20  Hybrid Oak  Poland      27-420  Bodzechów  \n",
      "2           330          20  Hybrid Oak  Poland      27-420  Bodzechów  \n",
      "3           415          20  Hybrid Oak  Poland      27-420  Bodzechów  \n"
     ]
    }
   ],
   "source": [
    "# zadanie A\n",
    "def getOracleStock(factory, dateS, dateT):\n",
    "    querry = f\"select * from STOCK INNER JOIN Factories on STOCK.factory_ID = Factories.factory_ID \" \\\n",
    "           + f\"where name = '{factory}' and PRODUCTION_DATE < '{dateT}' and \" \\\n",
    "           + f\"PRODUCTION_DATE > '{dateS}'\"\n",
    "    data = pd.read_sql(querry,connection)\n",
    "    data = pickle.dumps(data)\n",
    "    #dump\n",
    "    return data\n",
    "\n",
    "def getStockData(factory, dateS, dateT):\n",
    "    index = (factory+\":\"+dateS+\"-\"+dateT)\n",
    "    data = r.get(index)\n",
    "    if data:\n",
    "        print(\"Taken from Cache\")\n",
    "        #dump\n",
    "        data = pickle.loads(data)\n",
    "        return data\n",
    "\n",
    "    else:\n",
    "        data = getOracleStock(factory, dateS, dateT)\n",
    "        sendToCache(index, data)\n",
    "        print(\"Taken from Ocarle DB, pushed to cache\")\n",
    "        #dump\n",
    "        data = pickle.loads(data)\n",
    "        return data\n",
    "\n",
    "newData = getStockData(factory, dateS, dateT)\n",
    "print(type(newData))\n",
    "print(newData)"
   ]
  },
  {
   "cell_type": "code",
   "execution_count": null,
   "id": "78494e64-0c36-4de1-b745-40e161fba681",
   "metadata": {},
   "outputs": [],
   "source": [
    "# zadanie B\n",
    "def getOracleEmpPos(name, surname):\n",
    "    querry = f\"SELECT employees.name, employees.surname, employees.position, factories.name AS factoryName FROM EMPLOYEES\" \\\n",
    "         f\" INNER JOIN Factories on EMPLOYEES.factory_ID = Factories.factory_ID\" \\\n",
    "         f\" WHERE employees.name = '{name}' AND employees.surname = '{surname}'\"\n",
    "    data = pd.read_sql(querry,connection)\n",
    "    data = pickle.dumps(data)\n",
    "    return data\n",
    "\n",
    "def getEmpPosData(name, surname):\n",
    "    index = (name+\":\"+surname)\n",
    "    data = r.get(index)\n",
    "    if data:\n",
    "        print(\"Taken from Cache\")\n",
    "        data = pickle.loads(data)\n",
    "        return data\n",
    "\n",
    "    else:\n",
    "        data = getOracleEmpPos(name, surname)\n",
    "        sendToCache(index, data)\n",
    "        print(\"Taken from Ocarle DB, pushed to cache\")\n",
    "        data = pickle.loads(data)\n",
    "        return data\n",
    "\n",
    "newData = getEmpPosData(name,surname)\n",
    "print(type(newData))\n",
    "print(newData)"
   ]
  },
  {
   "cell_type": "code",
   "execution_count": null,
   "id": "1a061034-53ea-436e-84e0-b119449cb674",
   "metadata": {},
   "outputs": [],
   "source": [
    "# zadanie C\n",
    "def getOracleSales(factory):\n",
    "    querry = f\"SELECT AVG(INCOME), SALES.YEAR, Factories.name AS FactoryName FROM SALES\" \\\n",
    "            f\" INNER JOIN Factories on SALES.factory_ID = Factories.factory_ID\" \\\n",
    "            f\" WHERE Factories.name = '{factory}'\" \\\n",
    "            f\" GROUP BY Factories.name, SALES.YEAR\"\n",
    "    data = pd.read_sql(querry,connection)\n",
    "    data = pickle.dumps(data)\n",
    "    return data\n",
    "\n",
    "def getSalesData(factory):\n",
    "    index = (factory)\n",
    "    data = r.get(index)\n",
    "    if data:\n",
    "        print(\"Taken from Cache\")\n",
    "        data = pickle.loads(data)\n",
    "        return data\n",
    "\n",
    "    else:\n",
    "        data = getOracleSales(factory)\n",
    "        sendToCache(index, data)\n",
    "        print(\"Taken from Ocarle DB, pushed to cache\")\n",
    "        data = pickle.loads(data)\n",
    "        return data\n",
    "\n",
    "newData = getSalesData(factory)\n",
    "print(type(newData))\n",
    "print(newData)"
   ]
  },
  {
   "cell_type": "code",
   "execution_count": 11,
   "id": "08e4e456-c007-484f-b934-de116ee9b7f9",
   "metadata": {},
   "outputs": [
    {
     "data": {
      "text/plain": [
       "True"
      ]
     },
     "execution_count": 11,
     "metadata": {},
     "output_type": "execute_result"
    }
   ],
   "source": [
    "# czyszczenie Cache\n",
    "r.flushdb()"
   ]
  },
  {
   "cell_type": "code",
   "execution_count": null,
   "id": "f1cdf674-331c-45db-b457-6ed94ec4b858",
   "metadata": {},
   "outputs": [],
   "source": []
  }
 ],
 "metadata": {
  "kernelspec": {
   "display_name": "Python 3 (ipykernel)",
   "language": "python",
   "name": "python3"
  },
  "language_info": {
   "codemirror_mode": {
    "name": "ipython",
    "version": 3
   },
   "file_extension": ".py",
   "mimetype": "text/x-python",
   "name": "python",
   "nbconvert_exporter": "python",
   "pygments_lexer": "ipython3",
   "version": "3.9.20"
  }
 },
 "nbformat": 4,
 "nbformat_minor": 5
}
