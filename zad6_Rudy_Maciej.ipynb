{
 "cells": [
  {
   "cell_type": "markdown",
   "id": "0f8ca2b0",
   "metadata": {},
   "source": [
    "# Zadanie\n",
    "\n",
    "1. To jest szablon zadania - wypełnij przed wysłaniem\n",
    "2. Zadanie polega na opracowaniu bazy danych plikowej oraz konfiguracji środowiska (np. serwera mongodb w docker) i przedstawieniu wykonanej bazy.\n",
    "3. Zaimplementuj w bazie plikowej swoją bazę z pierwszego zadania i wykonaj dla niej następujące zapytania:\n",
    " 1.  Wykonaj podstawowe zapytania pokazujące wprowadzenie danych (3 x wyszukiwania pojedynczych wierszy).   {ocena 3.0-3.5}\n",
    " \n",
    " 2. Dodaj wyszukiwania grup wierszy (lista wierszy; 3 x przykładowe zapytanie)    {ocena 3.5-4.0}\n",
    " 3. Dodaj  wyliczania wartości dla zapytania (3 x przykładowe zapytanie wyliczające)    {ocena 4.0-4.5}\n",
    " 4. Dodaj wyszukiwania z agregacją wyników (3 x przykładowe agregacje).   {ocena 4.5-5.0}\n",
    " 5. Wpisz w ostatniej komórce notatnika swoje spostrzeżenia na temat: \"Jak wypada porównanie bazy plikowej w odniesieniu do bazy relacyjnej na przykładzie mojej bazy danych z laboratorium?\"\n"
   ]
  },
  {
   "cell_type": "markdown",
   "id": "d63ad10a",
   "metadata": {},
   "source": [
    "Opis:\n",
    "-  Wykonaj bazę klucz plikową na podstawie swojego wcześniejszego (zad 1) modelu danych. Warto skorzystać z przygotowanej wcześniej bazy danych. Zastanów sie które rekordy z tamtej bazy danych warto wpisać we dokumentach, coś co wcześniej trzeba było łączyć poleceniem JOIN można teraz wpisać wspólnie w jednym dokuemncie. \n",
    "- W zapytaniach użyj podstawowych mechanizmów MongoDB: użyj sortowania, projekcji, poleceń limit i distinct.\n",
    "- Wykonaj przynajmniej 12 zapytań do bazy (4 x 3 przykłady zapytań [A, B, C, D])\n",
    "\n",
    "Polecenia:\n",
    " - oprogramuj zadanie,\n",
    " - prześlij wypełniony notatnik do naszego kursu online,\n",
    " - przedstaw działające zadanie na zajęciach laboratoryjnych,\n",
    " \n",
    "- Nazwa pliku notatnika: zad4_nazwisko_imie.ipynb "
   ]
  },
  {
   "cell_type": "markdown",
   "id": "c960910e",
   "metadata": {},
   "source": [
    "## Opis rozwiązania (wypełnia student)\n",
    "\n",
    "1. Autor: \n",
    " - ...........................\n",
    "2. temat bazy danych?\n",
    " 1. ...........................\n"
   ]
  },
  {
   "cell_type": "code",
   "execution_count": 1,
   "id": "21351666",
   "metadata": {},
   "outputs": [],
   "source": [
    "# niezbędne importy\n",
    "import pandas as pd\n",
    "import numpy as np\n",
    "import datetime\n",
    "from pymongo import MongoClient\n",
    "import cx_Oracle\n",
    "import datetime"
   ]
  },
  {
   "cell_type": "code",
   "execution_count": 2,
   "id": "109e7394",
   "metadata": {},
   "outputs": [],
   "source": [
    "# połączenie z mongo\n",
    "client = MongoClient(\"mongodb://localhost:27017/\")"
   ]
  },
  {
   "cell_type": "code",
   "execution_count": 3,
   "id": "fea38f46",
   "metadata": {},
   "outputs": [],
   "source": [
    "# połączenie z bazą sql jeśli potrzebne\n",
    "connection = cx_Oracle.connect(user=\"s108261\", password=\"s108261\",\n",
    "                               dsn=\"217.173.198.135:1521/tpdb\")\n",
    "cursor = connection.cursor()"
   ]
  },
  {
   "cell_type": "markdown",
   "id": "4dbdd829-45b6-4dac-993f-32359ba723fd",
   "metadata": {},
   "source": [
    "# Odwzorowanie bazy SQL w MongoDB"
   ]
  },
  {
   "cell_type": "code",
   "execution_count": 4,
   "id": "50e68436",
   "metadata": {},
   "outputs": [],
   "source": [
    "FactoriesDF = pd.read_sql(\"SELECT * FROM Factories\",connection)\n",
    "Safety_measurementsDF= pd.read_sql(\"SELECT * FROM Safety_measurements\",connection)\n",
    "StockDF = pd.read_sql(\"SELECT * FROM Stock\",connection)\n",
    "EmployeesDF = pd.read_sql(\"SELECT * FROM Employees\",connection)\n",
    "Environmental_costsDF = pd.read_sql(\"SELECT * FROM Environmental_costs\",connection)\n",
    "PartsDF = pd.read_sql(\"SELECT * FROM Parts\",connection)\n",
    "Production_planDF = pd.read_sql(\"SELECT * FROM Production_plan\",connection)\n",
    "SalaryDF = pd.read_sql(\"SELECT * FROM Salary\",connection)\n",
    "SalesDF = pd.read_sql(\"SELECT * FROM Sales\",connection)\n",
    "ShiftsDF = pd.read_sql(\"SELECT * FROM Shifts\",connection)\n",
    "SKUDF = pd.read_sql(\"SELECT * FROM SKU\",connection)\n",
    "SKU_PartsDF = pd.read_sql(\"SELECT * FROM SKU_Parts\",connection)\n",
    "SuppliersDF = pd.read_sql(\"SELECT * FROM Suppliers\",connection)\n",
    "TaxesDF = pd.read_sql(\"SELECT * FROM Taxes\",connection)\n",
    "Total_costsDF = pd.read_sql(\"SELECT * FROM Total_costs\",connection)"
   ]
  },
  {
   "cell_type": "code",
   "execution_count": 8,
   "id": "707f7a88",
   "metadata": {},
   "outputs": [
    {
     "data": {
      "text/plain": [
       "InsertManyResult([1, 2, 3, 4, 5, 6, 7, 8, 9, 10, 11, 12, 13, 14, 15, 16, 17, 18, 19, 20, 21, 22, 23, 24, 25, 26, 27, 28, 29, 30, 31, 32, 33, 34, 35, 36, 37, 38, 39, 40, 41, 42, 43, 44, 45, 46, 47, 48, 49, 50, 51, 52, 53, 54, 55, 56, 57, 58, 59, 60, 61, 62, 63, 64, 65, 66, 67, 68, 69, 70, 71, 72, 73, 74, 75, 76, 77, 78, 79, 80, 81, 82, 83, 84, 85, 86, 87, 88, 89, 90, 91, 92, 93, 94, 95, 96, 97, 98, 99, 100, 101, 102, 103, 104, 105, 106, 107, 108, 109, 110, 111, 112, 113, 114, 115, 116, 117, 118, 119, 120, 121, 122, 123, 124, 125, 126, 127, 128, 129, 130, 131, 132, 133, 134, 135, 136, 137, 138, 139, 140, 141, 142, 143, 144, 145, 146, 147, 148, 149, 150], acknowledged=True)"
      ]
     },
     "execution_count": 8,
     "metadata": {},
     "output_type": "execute_result"
    }
   ],
   "source": [
    "FactoryDB = client[\"Factory\"]\n",
    "##########################################################\n",
    "Factories = FactoryDB[\"FactoryCollection\"]\n",
    "FactoriesDoc = FactoriesDF.to_dict(orient = \"records\")\n",
    "for x in FactoriesDoc:\n",
    "    x[\"_id\"] = x.pop('FACTORY_ID')\n",
    "Factories.insert_many(FactoriesDoc)\n",
    "##########################################################\n",
    "Stock = FactoryDB[\"StockCollection\"]\n",
    "StockDoc = StockDF.to_dict(orient = \"records\")\n",
    "for x in StockDoc:\n",
    "    x[\"_id\"] = x.pop('SERIALNUMBER_ID')\n",
    "Stock.insert_many(StockDoc)\n",
    "##########################################################\n",
    "Employees = FactoryDB[\"EmployeesCollection\"]\n",
    "EmployeesDoc = EmployeesDF.to_dict(orient = \"records\")\n",
    "for x in EmployeesDoc:\n",
    "    x[\"_id\"] = x.pop('EMPLOYEE_ID')    \n",
    "Employees.insert_many(EmployeesDoc)\n",
    "##########################################################\n",
    "Parts = FactoryDB[\"PartsCollection\"]\n",
    "PartsDoc = PartsDF.to_dict(orient = \"records\")\n",
    "for x in PartsDoc:\n",
    "    x[\"_id\"] = x.pop('PART_ID')    \n",
    "Parts.insert_many(PartsDoc)\n",
    "##########################################################\n",
    "Safety_Measurements = FactoryDB[\"Safety_MeasurementsCollection\"]\n",
    "Safety_MeasurementsDoc = Safety_measurementsDF.to_dict(orient = \"records\")\n",
    "for x in Safety_MeasurementsDoc:\n",
    "    x[\"_id\"] = x.pop('S_MEASURE_ID')    \n",
    "Safety_Measurements.insert_many(Safety_MeasurementsDoc)\n",
    "##########################################################\n",
    "Salary = FactoryDB[\"SalaryCollection\"]\n",
    "SalaryDoc = SalaryDF.to_dict(orient = \"records\")\n",
    "for x in SalaryDoc:\n",
    "    x[\"_id\"] = x.pop('ID')    \n",
    "Salary.insert_many(SalaryDoc)\n",
    "##########################################################\n",
    "Sales = FactoryDB[\"SalesCollection\"]\n",
    "SalesDoc = SalesDF.to_dict(orient = \"records\")\n",
    "for x in SalesDoc:\n",
    "    x[\"_id\"] = x.pop('ID')\n",
    "Sales.insert_many(SalesDoc)\n",
    "##########################################################\n",
    "Shifts = FactoryDB[\"ShiftsCollection\"]\n",
    "ShiftsDoc = ShiftsDF.to_dict(orient = \"records\")\n",
    "for x in ShiftsDoc:\n",
    "    x[\"_id\"] = x.pop('SHIFT_ID')    \n",
    "Shifts.insert_many(ShiftsDoc)\n",
    "##########################################################\n",
    "SKU = FactoryDB[\"SKUCollection\"]\n",
    "SKUDF[\"WITHDRAWAL_DATE\"] = SKUDF[\"WITHDRAWAL_DATE\"].replace({pd.NaT: None})\n",
    "SKUDoc = SKUDF.to_dict(orient = \"records\")\n",
    "for x in SKUDoc:\n",
    "    x[\"_id\"] = x.pop('SKU_ID')    \n",
    "SKU.insert_many(SKUDoc)\n",
    "##########################################################\n",
    "SKU_Parts = FactoryDB[\"SKU_PartsCollection\"]\n",
    "SKU_PartsDoc = SKU_PartsDF.to_dict(orient = \"records\")\n",
    "for x in SKU_PartsDoc:\n",
    "    x[\"_id\"] = x.pop('ID')\n",
    "SKU_Parts.insert_many(SKU_PartsDoc)\n",
    "##########################################################\n",
    "Suppliers = FactoryDB[\"SuppliersCollection\"]\n",
    "SuppliersDoc = SuppliersDF.to_dict(orient = \"records\")\n",
    "for x in SuppliersDoc:\n",
    "    x[\"_id\"] = x.pop('SUPP_ID')    \n",
    "Suppliers.insert_many(SuppliersDoc)"
   ]
  },
  {
   "cell_type": "markdown",
   "id": "b46308bf-1931-49a2-8230-44a315c3ef0c",
   "metadata": {},
   "source": [
    "# Querys"
   ]
  },
  {
   "cell_type": "markdown",
   "id": "a3c344f4-7b34-4039-868a-97d2f4815faf",
   "metadata": {},
   "source": [
    "## Single value querys - zadanie A\n"
   ]
  },
  {
   "cell_type": "code",
   "execution_count": 9,
   "id": "c3adb82f",
   "metadata": {},
   "outputs": [
    {
     "data": {
      "text/plain": [
       "{'_id': 28,\n",
       " 'NAME': 'Schistostega Moss',\n",
       " 'COUNTRY': 'Poland',\n",
       " 'POSTAL_CODE': '37-303',\n",
       " 'CITY': 'Kuryłówka'}"
      ]
     },
     "execution_count": 9,
     "metadata": {},
     "output_type": "execute_result"
    }
   ],
   "source": [
    "Factories.find_one({\"_id\": 28})"
   ]
  },
  {
   "cell_type": "code",
   "execution_count": 10,
   "id": "c8f6e820-e76a-404e-8514-9bfbbfae9b6b",
   "metadata": {},
   "outputs": [
    {
     "data": {
      "text/plain": [
       "{'_id': 90,\n",
       " 'NAME': 'Halley',\n",
       " 'SURNAME': 'Charlick',\n",
       " 'POSITION': 'operator',\n",
       " 'ASSIGNED_SHIFT_ID': 7,\n",
       " 'FACTORY_ID': 28}"
      ]
     },
     "execution_count": 10,
     "metadata": {},
     "output_type": "execute_result"
    }
   ],
   "source": [
    "Employees.find_one({\"_id\": 90})"
   ]
  },
  {
   "cell_type": "code",
   "execution_count": 11,
   "id": "6e697588-9609-4d17-b5da-f6d3152e68d9",
   "metadata": {},
   "outputs": [
    {
     "data": {
      "text/plain": [
       "{'_id': 3, 'NAME': 'Glass', 'COST': 631.07, 'SUPP_ID': 127}"
      ]
     },
     "execution_count": 11,
     "metadata": {},
     "output_type": "execute_result"
    }
   ],
   "source": [
    "Parts.find_one({\"NAME\": \"Glass\"})"
   ]
  },
  {
   "cell_type": "markdown",
   "id": "7e38f66f-d5b6-401c-af17-63924e789eee",
   "metadata": {},
   "source": [
    "## List of objects querys - zadanie B"
   ]
  },
  {
   "cell_type": "code",
   "execution_count": 12,
   "id": "e54f9939-c254-42bf-96aa-d262bef37d69",
   "metadata": {},
   "outputs": [
    {
     "data": {
      "text/html": [
       "<div>\n",
       "<style scoped>\n",
       "    .dataframe tbody tr th:only-of-type {\n",
       "        vertical-align: middle;\n",
       "    }\n",
       "\n",
       "    .dataframe tbody tr th {\n",
       "        vertical-align: top;\n",
       "    }\n",
       "\n",
       "    .dataframe thead th {\n",
       "        text-align: right;\n",
       "    }\n",
       "</style>\n",
       "<table border=\"1\" class=\"dataframe\">\n",
       "  <thead>\n",
       "    <tr style=\"text-align: right;\">\n",
       "      <th></th>\n",
       "      <th>_id</th>\n",
       "      <th>SERIALNUMBER</th>\n",
       "      <th>PRODUCTION_DATE</th>\n",
       "      <th>FACTORY_ID</th>\n",
       "      <th>SKU_ID</th>\n",
       "      <th>S_MEASURE_ID</th>\n",
       "    </tr>\n",
       "  </thead>\n",
       "  <tbody>\n",
       "    <tr>\n",
       "      <th>0</th>\n",
       "      <td>160</td>\n",
       "      <td>ZHWGU5BZ1CL316738</td>\n",
       "      <td>2020-05-21</td>\n",
       "      <td>53</td>\n",
       "      <td>74</td>\n",
       "      <td>6</td>\n",
       "    </tr>\n",
       "    <tr>\n",
       "      <th>1</th>\n",
       "      <td>547</td>\n",
       "      <td>ZHWGU5BZ6CL656824</td>\n",
       "      <td>2020-10-30</td>\n",
       "      <td>74</td>\n",
       "      <td>11</td>\n",
       "      <td>140</td>\n",
       "    </tr>\n",
       "    <tr>\n",
       "      <th>2</th>\n",
       "      <td>645</td>\n",
       "      <td>ZHWGU5BR9EL938037</td>\n",
       "      <td>2020-06-26</td>\n",
       "      <td>34</td>\n",
       "      <td>29</td>\n",
       "      <td>670</td>\n",
       "    </tr>\n",
       "  </tbody>\n",
       "</table>\n",
       "</div>"
      ],
      "text/plain": [
       "   _id       SERIALNUMBER PRODUCTION_DATE  FACTORY_ID  SKU_ID  S_MEASURE_ID\n",
       "0  160  ZHWGU5BZ1CL316738      2020-05-21          53      74             6\n",
       "1  547  ZHWGU5BZ6CL656824      2020-10-30          74      11           140\n",
       "2  645  ZHWGU5BR9EL938037      2020-06-26          34      29           670"
      ]
     },
     "execution_count": 12,
     "metadata": {},
     "output_type": "execute_result"
    }
   ],
   "source": [
    "pd.DataFrame(Stock.find( { 'SERIALNUMBER': {\"$regex\": \"^ZH\"}}))"
   ]
  },
  {
   "cell_type": "code",
   "execution_count": 13,
   "id": "f6ece30a-ae47-47b3-aa39-e5e0e03be74e",
   "metadata": {},
   "outputs": [
    {
     "data": {
      "text/html": [
       "<div>\n",
       "<style scoped>\n",
       "    .dataframe tbody tr th:only-of-type {\n",
       "        vertical-align: middle;\n",
       "    }\n",
       "\n",
       "    .dataframe tbody tr th {\n",
       "        vertical-align: top;\n",
       "    }\n",
       "\n",
       "    .dataframe thead th {\n",
       "        text-align: right;\n",
       "    }\n",
       "</style>\n",
       "<table border=\"1\" class=\"dataframe\">\n",
       "  <thead>\n",
       "    <tr style=\"text-align: right;\">\n",
       "      <th></th>\n",
       "      <th>_id</th>\n",
       "      <th>YEAR</th>\n",
       "      <th>MONTH</th>\n",
       "      <th>INCOME</th>\n",
       "      <th>FACTORY_ID</th>\n",
       "    </tr>\n",
       "  </thead>\n",
       "  <tbody>\n",
       "    <tr>\n",
       "      <th>0</th>\n",
       "      <td>1</td>\n",
       "      <td>2018</td>\n",
       "      <td>June</td>\n",
       "      <td>4064.90</td>\n",
       "      <td>100</td>\n",
       "    </tr>\n",
       "    <tr>\n",
       "      <th>1</th>\n",
       "      <td>2</td>\n",
       "      <td>2021</td>\n",
       "      <td>November</td>\n",
       "      <td>8194.56</td>\n",
       "      <td>85</td>\n",
       "    </tr>\n",
       "    <tr>\n",
       "      <th>2</th>\n",
       "      <td>4</td>\n",
       "      <td>2018</td>\n",
       "      <td>August</td>\n",
       "      <td>7087.10</td>\n",
       "      <td>53</td>\n",
       "    </tr>\n",
       "    <tr>\n",
       "      <th>3</th>\n",
       "      <td>6</td>\n",
       "      <td>2023</td>\n",
       "      <td>June</td>\n",
       "      <td>6787.37</td>\n",
       "      <td>77</td>\n",
       "    </tr>\n",
       "    <tr>\n",
       "      <th>4</th>\n",
       "      <td>8</td>\n",
       "      <td>2023</td>\n",
       "      <td>March</td>\n",
       "      <td>5555.86</td>\n",
       "      <td>11</td>\n",
       "    </tr>\n",
       "    <tr>\n",
       "      <th>...</th>\n",
       "      <td>...</td>\n",
       "      <td>...</td>\n",
       "      <td>...</td>\n",
       "      <td>...</td>\n",
       "      <td>...</td>\n",
       "    </tr>\n",
       "    <tr>\n",
       "      <th>130</th>\n",
       "      <td>194</td>\n",
       "      <td>2023</td>\n",
       "      <td>December</td>\n",
       "      <td>6368.01</td>\n",
       "      <td>60</td>\n",
       "    </tr>\n",
       "    <tr>\n",
       "      <th>131</th>\n",
       "      <td>196</td>\n",
       "      <td>2021</td>\n",
       "      <td>September</td>\n",
       "      <td>9967.93</td>\n",
       "      <td>34</td>\n",
       "    </tr>\n",
       "    <tr>\n",
       "      <th>132</th>\n",
       "      <td>198</td>\n",
       "      <td>2020</td>\n",
       "      <td>October</td>\n",
       "      <td>9361.87</td>\n",
       "      <td>79</td>\n",
       "    </tr>\n",
       "    <tr>\n",
       "      <th>133</th>\n",
       "      <td>199</td>\n",
       "      <td>2023</td>\n",
       "      <td>May</td>\n",
       "      <td>4940.86</td>\n",
       "      <td>98</td>\n",
       "    </tr>\n",
       "    <tr>\n",
       "      <th>134</th>\n",
       "      <td>200</td>\n",
       "      <td>2018</td>\n",
       "      <td>July</td>\n",
       "      <td>9189.04</td>\n",
       "      <td>53</td>\n",
       "    </tr>\n",
       "  </tbody>\n",
       "</table>\n",
       "<p>135 rows × 5 columns</p>\n",
       "</div>"
      ],
      "text/plain": [
       "     _id  YEAR      MONTH   INCOME  FACTORY_ID\n",
       "0      1  2018       June  4064.90         100\n",
       "1      2  2021   November  8194.56          85\n",
       "2      4  2018     August  7087.10          53\n",
       "3      6  2023       June  6787.37          77\n",
       "4      8  2023      March  5555.86          11\n",
       "..   ...   ...        ...      ...         ...\n",
       "130  194  2023   December  6368.01          60\n",
       "131  196  2021  September  9967.93          34\n",
       "132  198  2020    October  9361.87          79\n",
       "133  199  2023        May  4940.86          98\n",
       "134  200  2018       July  9189.04          53\n",
       "\n",
       "[135 rows x 5 columns]"
      ]
     },
     "execution_count": 13,
     "metadata": {},
     "output_type": "execute_result"
    }
   ],
   "source": [
    "pd.DataFrame(Sales.find( { \"$expr\": { \"$gt\": [ \"$INCOME\" , 4000 ] } } ))"
   ]
  },
  {
   "cell_type": "code",
   "execution_count": 14,
   "id": "d8487257-7721-4b80-88a3-8a37db56e3b0",
   "metadata": {},
   "outputs": [
    {
     "name": "stdout",
     "output_type": "stream",
     "text": [
      "{'_id': 45, 'COLLISION_TEST': 6, 'SAFETY_CLASS': 9, 'BODY_DURABILITY': 0.69, 'BRAKES_EFFICIENCE': 0.64, 'ACCEPTANCE_DATE': datetime.datetime(2024, 10, 20, 0, 0)}\n",
      "{'_id': 67, 'COLLISION_TEST': 4, 'SAFETY_CLASS': 5, 'BODY_DURABILITY': 0.55, 'BRAKES_EFFICIENCE': 0.79, 'ACCEPTANCE_DATE': datetime.datetime(2024, 10, 21, 0, 0)}\n",
      "{'_id': 77, 'COLLISION_TEST': 8, 'SAFETY_CLASS': 8, 'BODY_DURABILITY': 0.02, 'BRAKES_EFFICIENCE': 0.11, 'ACCEPTANCE_DATE': datetime.datetime(2024, 10, 24, 0, 0)}\n",
      "{'_id': 300, 'COLLISION_TEST': 3, 'SAFETY_CLASS': 8, 'BODY_DURABILITY': 0.74, 'BRAKES_EFFICIENCE': 0.78, 'ACCEPTANCE_DATE': datetime.datetime(2024, 10, 27, 0, 0)}\n",
      "{'_id': 414, 'COLLISION_TEST': 3, 'SAFETY_CLASS': 6, 'BODY_DURABILITY': 0.63, 'BRAKES_EFFICIENCE': 0.19, 'ACCEPTANCE_DATE': datetime.datetime(2024, 10, 29, 0, 0)}\n",
      "{'_id': 452, 'COLLISION_TEST': 1, 'SAFETY_CLASS': 7, 'BODY_DURABILITY': 0.91, 'BRAKES_EFFICIENCE': 0.28, 'ACCEPTANCE_DATE': datetime.datetime(2024, 10, 26, 0, 0)}\n"
     ]
    }
   ],
   "source": [
    "for x in Safety_Measurements.find({ \"$expr\": { \"$gt\": [ \"$ACCEPTANCE_DATE\" , datetime.datetime(2024, 10, 18, 0, 0) ] } }):\n",
    "    print(x)\n"
   ]
  },
  {
   "cell_type": "markdown",
   "id": "9813ccda-99ce-425d-a002-2afcc94f07b5",
   "metadata": {},
   "source": [
    "## Calculation and grouping query - zadanie C i D"
   ]
  },
  {
   "cell_type": "code",
   "execution_count": 15,
   "id": "37341888-6914-43a5-b4a5-2356593aeff8",
   "metadata": {},
   "outputs": [
    {
     "name": "stdout",
     "output_type": "stream",
     "text": [
      "    FACTORY_ID  total_income\n",
      "0            1      19027.68\n",
      "1           83       5969.18\n",
      "2           25      14927.91\n",
      "3           55       9603.61\n",
      "4           24       9847.15\n",
      "5           99      12044.37\n",
      "6           81      12876.93\n",
      "7           84       7916.84\n",
      "8           39       5161.32\n",
      "9           45       4821.08\n",
      "10          32       1091.18\n",
      "11          70       9879.20\n",
      "12          61       9934.36\n",
      "13           5       2672.41\n",
      "14          20      10233.56\n",
      "15          13       7640.05\n",
      "16          98       3156.23\n",
      "17          97       8394.63\n",
      "18           9       3034.90\n",
      "19          79       9361.87\n",
      "20          18       4480.40\n",
      "21          44       6648.42\n",
      "22          50       1236.68\n",
      "23          37       8850.09\n",
      "24         100       1568.79\n",
      "25          30       8660.00\n",
      "26          87       1608.08\n",
      "27          57       7853.94\n",
      "28          19       2575.24\n",
      "29          15      14172.98\n",
      "30          59       5595.56\n",
      "31          35       9119.47\n",
      "32          16       4747.20\n",
      "33          29       6803.90\n"
     ]
    }
   ],
   "source": [
    "pipeline = [\n",
    "    {\"$match\": {\"YEAR\": 2020}},\n",
    "    {\"$group\": {\"_id\": \"$FACTORY_ID\", \"total_income\": {\"$sum\": \"$INCOME\"}}}\n",
    "]\n",
    "\n",
    "result = list(Sales.aggregate(pipeline))\n",
    "\n",
    "df = pd.DataFrame(result)\n",
    "df.rename(columns={\"_id\": \"FACTORY_ID\"}, inplace=True)\n",
    "print(df)"
   ]
  },
  {
   "cell_type": "code",
   "execution_count": 16,
   "id": "9f6e22fd-0e13-4d58-a23a-95f68ac84c73",
   "metadata": {},
   "outputs": [
    {
     "name": "stdout",
     "output_type": "stream",
     "text": [
      "    FACTORY_ID       SERIALNUMBER PRODUCTION_DATE  FACTORY_ID  SKU_ID  \\\n",
      "0            2  WAULFAFR3BA954663      2023-12-03          18      90   \n",
      "1           15  2T1BURHE7FC517814      2023-12-10          28       9   \n",
      "2           32  WAUPEAFM5BA740203      2023-12-18          19      69   \n",
      "3           37  WAUBGAFC9CN197945      2023-12-02          53      63   \n",
      "4           40  JN8AF5MV8FT400079      2023-12-07           5      88   \n",
      "5           49  19UYA42523A410413      2023-11-14          77      84   \n",
      "6           54  5GAKRBKD8FJ953750      2024-01-10          17      47   \n",
      "7           63  WAUAFAFH5DN808436      2023-12-13          40      14   \n",
      "8           80  2C3CDXFG1EH664426      2024-01-13          19      23   \n",
      "9           86  5LMJJ3H53DE514493      2023-10-19          80      46   \n",
      "10          87  WBASN0C5XDD890469      2023-12-10          30      33   \n",
      "11         113  WBA3C1C59FP369213      2023-11-02          66      72   \n",
      "12         137  1G6AK5S39D0846848      2024-01-07         100       5   \n",
      "13         164  JTDKDTB36C1580813      2023-11-28          45      22   \n",
      "14         670  YV1902FH6B2556010      2023-11-22          97      93   \n",
      "15         171  JTHBL5EF7C5922507      2023-10-30          92      14   \n",
      "16         178  1G6AB5S39D0673686      2024-01-12          91      94   \n",
      "17         214  19VDE3F75EE333116      2023-11-12          24      90   \n",
      "18         245  WP0CB2A81CS577068      2023-10-20          67      54   \n",
      "19         258  1G4PP5SKXD4643424      2023-11-20          29      55   \n",
      "20         265  1GYS4AKJ5FR484383      2023-12-02          66      59   \n",
      "21         266  JN1CV6EK7EM347226      2024-01-05          19      70   \n",
      "22         268  JTDKN3DU1B0209873      2023-11-22          76      79   \n",
      "23         288  WBAEW53433P869779      2023-11-19          21       5   \n",
      "24         301  SAJWA6AT5F8967038      2023-12-12           8      29   \n",
      "25         313  WAUFMAFC5EN235958      2023-11-13          78      82   \n",
      "26         338  1HGCR6F5XEA729490      2023-11-25          70      36   \n",
      "27         361  JTDKN3DP6F3857479      2023-12-06           7      52   \n",
      "28         378  2G4WF551321230528      2023-11-19          13      68   \n",
      "29         382  1G6DB8E52E0954516      2023-12-13          98      89   \n",
      "30         385  1N4AA5AP1CC235316      2023-11-13          76      85   \n",
      "31         390  JH4DC43591S309140      2023-10-28          15      51   \n",
      "32         429  WAURVAFA4AN347704      2023-12-17          63      15   \n",
      "33         440  5N1AR2MM5EC607709      2024-01-13          77      36   \n",
      "34         455  1GYS3DEF3ER630404      2023-10-26           6       6   \n",
      "35         505  5BZAF0AA3FN461876      2024-01-02           6      30   \n",
      "36         508  1D7CW2GK4AS352878      2023-10-29          87      89   \n",
      "37         512  1N6AA0CH4EN084804      2023-11-23          67      85   \n",
      "38         513  WA1AY94L98D066079      2023-11-19          97      65   \n",
      "39         535  2G4GS5EV0C9150674      2023-11-30           7      70   \n",
      "40         539  JM1GJ1T55E1336933      2023-11-28          26      87   \n",
      "41         572  1G4GB5EG2AF981356      2023-12-25          89      73   \n",
      "42         612  KMHGC4DE3AU186870      2023-12-25          32      85   \n",
      "\n",
      "    S_MEASURE_ID  \n",
      "0            411  \n",
      "1            313  \n",
      "2            559  \n",
      "3            268  \n",
      "4            288  \n",
      "5            409  \n",
      "6            199  \n",
      "7            580  \n",
      "8            396  \n",
      "9            236  \n",
      "10           420  \n",
      "11           690  \n",
      "12           568  \n",
      "13           592  \n",
      "14           587  \n",
      "15            31  \n",
      "16           450  \n",
      "17           173  \n",
      "18           511  \n",
      "19           332  \n",
      "20           637  \n",
      "21           649  \n",
      "22           487  \n",
      "23           162  \n",
      "24           556  \n",
      "25           520  \n",
      "26           522  \n",
      "27           102  \n",
      "28           156  \n",
      "29           176  \n",
      "30           608  \n",
      "31           130  \n",
      "32           236  \n",
      "33           327  \n",
      "34           364  \n",
      "35           619  \n",
      "36           365  \n",
      "37           155  \n",
      "38           591  \n",
      "39           115  \n",
      "40           562  \n",
      "41           248  \n",
      "42           181  \n"
     ]
    }
   ],
   "source": [
    "pipeline = [\n",
    "    {\"$match\": { \"$expr\": { \"$gt\": [ \"$PRODUCTION_DATE\" , datetime.datetime(2023, 10, 18, 0, 0) ] } }}\n",
    "]\n",
    "\n",
    "result = list(Stock.aggregate(pipeline))\n",
    "\n",
    "df = pd.DataFrame(result)\n",
    "df.rename(columns={\"_id\": \"FACTORY_ID\"}, inplace=True)\n",
    "print(df)"
   ]
  },
  {
   "cell_type": "code",
   "execution_count": 17,
   "id": "d4c0a2c8-b2c3-44ff-b5ae-589c5af4e18e",
   "metadata": {},
   "outputs": [
    {
     "name": "stdout",
     "output_type": "stream",
     "text": [
      "     SUPP_ID  Absolute_Cost\n",
      "0         69         714.10\n",
      "1         21         649.24\n",
      "2         17        1169.74\n",
      "3          8        1529.49\n",
      "4        138        3073.10\n",
      "..       ...            ...\n",
      "142      107        1290.73\n",
      "143      135        2850.80\n",
      "144        7        1403.88\n",
      "145        1        3220.01\n",
      "146       63          99.06\n",
      "\n",
      "[147 rows x 2 columns]\n"
     ]
    }
   ],
   "source": [
    "pipeline = [\n",
    "    {\"$group\": {\"_id\": \"$SUPP_ID\", \"Absolute_Cost\": {\"$sum\": \"$COST\"}}}  # Sumuj pole INCOME\n",
    "]\n",
    "\n",
    "result = list(Parts.aggregate(pipeline))\n",
    "\n",
    "df = pd.DataFrame(result)\n",
    "df.rename(columns={\"_id\": \"SUPP_ID\"}, inplace=True)\n",
    "print(df)"
   ]
  },
  {
   "cell_type": "code",
   "execution_count": 18,
   "id": "13a4c55c-f30b-45ff-843a-6f419784c311",
   "metadata": {},
   "outputs": [
    {
     "name": "stdout",
     "output_type": "stream",
     "text": [
      "    ASSIGNED_SHIFT_ID  Number of workers\n",
      "0                  14                  4\n",
      "1                  23                  2\n",
      "2                  28                  3\n",
      "3                  29                  1\n",
      "4                  30                  4\n",
      "5                   1                  6\n",
      "6                  25                  3\n",
      "7                   2                  5\n",
      "8                   7                  1\n",
      "9                  15                  2\n",
      "10                 12                  1\n",
      "11                  4                  2\n",
      "12                 19                  2\n",
      "13                  3                  1\n",
      "14                 16                  3\n",
      "15                 10                  2\n",
      "16                  5                  5\n",
      "17                 20                  3\n",
      "18                 13                  1\n",
      "19                 11                  2\n",
      "20                  8                  1\n",
      "21                 17                  1\n",
      "22                  9                  1\n",
      "23                 27                  3\n",
      "24                 21                  3\n",
      "25                 18                  3\n"
     ]
    }
   ],
   "source": [
    "pipeline = [\n",
    "    {\"$match\": { \"SURNAME\": { \"$regex\": \"^C\" }}},\n",
    "    {\"$group\": {\"_id\": \"$ASSIGNED_SHIFT_ID\", \"Number of workers\": {\"$sum\": 1} }}\n",
    "]\n",
    "\n",
    "result = list(Employees.aggregate(pipeline))\n",
    "\n",
    "df = pd.DataFrame(result)\n",
    "df.rename(columns={\"_id\": \"ASSIGNED_SHIFT_ID\"}, inplace=True)\n",
    "print(df)"
   ]
  },
  {
   "cell_type": "code",
   "execution_count": 19,
   "id": "56459903-ed82-4127-9243-08f9a45dcfb3",
   "metadata": {},
   "outputs": [],
   "source": [
    "client.list_database_names()\n",
    "client.drop_database(\"Factory\")"
   ]
  },
  {
   "cell_type": "markdown",
   "id": "94ef4a50-6c1c-4a56-834b-add69121f50c",
   "metadata": {},
   "source": [
    "### \"Jak wypada porównanie bazy plikowej w odniesieniu do bazy relacyjnej na przykładzie mojej bazy danych z laboratorium?\"\n",
    "\n",
    "Odpowiedź: \n",
    "Na pewno baza plikowa wydaje się być dużo bardziej elastyczna w sytuacji, kiedy nie potrzebujemy skomplikowanych relacji.\n",
    "Jednakże w tej sytuacji, kiedy baza danych została zdefiniowana dla fabryki, gdzie relacje są niezbędne, pozostałbym przy relacyjnej bazie danych.\n",
    "\n",
    "Redisa wykorzystałbym do zwracania najczęściej wykonywanych zapytań, a MongoDB do np. zapisywania informacji o klientach, zakupionych sprzętach itp.\n",
    "\n",
    "Kiedyś myślałem, że nierelacyjne bazy danych nie mają wielu zastosowań, ale miło się zaskoczyłem."
   ]
  },
  {
   "cell_type": "code",
   "execution_count": null,
   "id": "9796423d-d40e-47fe-84ed-ab90f220a2e8",
   "metadata": {},
   "outputs": [],
   "source": []
  }
 ],
 "metadata": {
  "kernelspec": {
   "display_name": "Python 3 (ipykernel)",
   "language": "python",
   "name": "python3"
  },
  "language_info": {
   "codemirror_mode": {
    "name": "ipython",
    "version": 3
   },
   "file_extension": ".py",
   "mimetype": "text/x-python",
   "name": "python",
   "nbconvert_exporter": "python",
   "pygments_lexer": "ipython3",
   "version": "3.9.20"
  }
 },
 "nbformat": 4,
 "nbformat_minor": 5
}
