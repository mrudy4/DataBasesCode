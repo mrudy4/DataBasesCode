{
 "cells": [
  {
   "cell_type": "code",
   "execution_count": 1,
   "id": "d76fa6a8-adde-413f-b2af-d6c7ba2f8bfe",
   "metadata": {},
   "outputs": [],
   "source": [
    "import pandas as pd\n",
    "import numpy as np\n",
    "import datetime\n",
    "from pymongo import MongoClient\n",
    "import cx_Oracle\n",
    "import datetime"
   ]
  },
  {
   "cell_type": "code",
   "execution_count": 2,
   "id": "4ed6cdb4-3bd2-4671-86f6-00dbfb9d0da4",
   "metadata": {},
   "outputs": [],
   "source": [
    "# połączenie z bazą\n",
    "connection = cx_Oracle.connect(user=\"s108261\", password=\"s108261\",\n",
    "                               dsn=\"217.173.198.135:1521/tpdb\")\n",
    "cursor = connection.cursor()"
   ]
  },
  {
   "cell_type": "code",
   "execution_count": 3,
   "id": "63450b03-3015-400b-a7dc-83331715b5aa",
   "metadata": {},
   "outputs": [],
   "source": [
    "#client = MongoClient('localhost', 27017)  # alternatywa\n",
    "client = MongoClient(\"mongodb://localhost:27017/\")"
   ]
  },
  {
   "cell_type": "code",
   "execution_count": null,
   "id": "fdbfdd7d-1569-45c4-92f0-86e4a1cb9a18",
   "metadata": {},
   "outputs": [],
   "source": [
    "## Example - Mongo does not create a database without collection\n",
    "\n",
    "appdb = client[\"blog\"]\n",
    "appcoll = appdb[\"blogcollection\"]\n",
    "document = {\"user_id\": 1, \"user\": \"test\"}\n",
    "appcoll.insert_one(document)"
   ]
  },
  {
   "cell_type": "code",
   "execution_count": 4,
   "id": "42c1a4a6-9922-42fc-a374-3fbd2aa24429",
   "metadata": {},
   "outputs": [],
   "source": [
    "## Retrieving data from Oracle into DataFrame\n",
    "\n",
    "FactoriesDF = pd.read_sql(\"SELECT * FROM Factories\",connection)\n",
    "Safety_measurementsDF= pd.read_sql(\"SELECT * FROM Safety_measurements\",connection)\n",
    "StockDF = pd.read_sql(\"SELECT * FROM Stock\",connection)\n",
    "EmployeesDF = pd.read_sql(\"SELECT * FROM Employees\",connection)\n",
    "Environmental_costsDF = pd.read_sql(\"SELECT * FROM Environmental_costs\",connection)\n",
    "PartsDF = pd.read_sql(\"SELECT * FROM Parts\",connection)\n",
    "Production_planDF = pd.read_sql(\"SELECT * FROM Production_plan\",connection)\n",
    "SalaryDF = pd.read_sql(\"SELECT * FROM Salary\",connection)\n",
    "SalesDF = pd.read_sql(\"SELECT * FROM Sales\",connection)\n",
    "ShiftsDF = pd.read_sql(\"SELECT * FROM Shifts\",connection)\n",
    "SKUDF = pd.read_sql(\"SELECT * FROM SKU\",connection)\n",
    "SKU_PartsDF = pd.read_sql(\"SELECT * FROM SKU_Parts\",connection)\n",
    "SuppliersDF = pd.read_sql(\"SELECT * FROM Suppliers\",connection)\n",
    "TaxesDF = pd.read_sql(\"SELECT * FROM Taxes\",connection)\n",
    "Total_costsDF = pd.read_sql(\"SELECT * FROM Total_costs\",connection)"
   ]
  },
  {
   "cell_type": "markdown",
   "id": "6d8dd18c-9b61-49f5-8c21-875e2ae83fe6",
   "metadata": {},
   "source": [
    "# Reflecting data in MongoDB"
   ]
  },
  {
   "cell_type": "code",
   "execution_count": 5,
   "id": "b2755d1c-c385-45d2-b306-82af46afe19f",
   "metadata": {},
   "outputs": [],
   "source": [
    "FactoryDB = client[\"Factory\"]"
   ]
  },
  {
   "cell_type": "code",
   "execution_count": 6,
   "id": "6fcf0668-2834-4569-a6af-3420d88c576c",
   "metadata": {},
   "outputs": [],
   "source": [
    "Factories = FactoryDB[\"FactoryCollection\"]\n",
    "#############################\n",
    "FactoriesDoc = FactoriesDF.to_dict(orient = \"records\")\n",
    "for x in FactoriesDoc:\n",
    "    x[\"_id\"] = x.pop('FACTORY_ID')\n",
    "\n",
    "Factories.insert_many(FactoriesDoc)"
   ]
  },
  {
   "cell_type": "code",
   "execution_count": 7,
   "id": "7504c50d-e074-4ed8-ade6-0623b64baf9c",
   "metadata": {},
   "outputs": [
    {
     "data": {
      "text/plain": [
       "InsertManyResult([1, 2, 3, 4, 5, 6, 7, 8, 9, 10, 11, 12, 13, 14, 15, 16, 17, 18, 19, 20, 21, 22, 23, 24, 25, 26, 27, 28, 29, 30, 31, 32, 33, 34, 35, 36, 37, 38, 39, 40, 41, 42, 43, 44, 45, 46, 47, 48, 49, 50, 51, 52, 53, 54, 55, 56, 57, 58, 59, 60, 61, 62, 63, 64, 65, 66, 67, 68, 69, 70, 71, 72, 73, 74, 75, 76, 77, 78, 79, 80, 81, 82, 83, 84, 85, 86, 87, 88, 89, 90, 91, 92, 93, 94, 95, 96, 97, 98, 99, 100], acknowledged=True)"
      ]
     },
     "execution_count": 7,
     "metadata": {},
     "output_type": "execute_result"
    }
   ],
   "source": []
  },
  {
   "cell_type": "code",
   "execution_count": null,
   "id": "b15d6291-11c8-49fe-b42c-fa8313ff9e85",
   "metadata": {},
   "outputs": [],
   "source": [
    "Factories = FactoryDB[\"FactoryCollection\"]\n",
    "#############################\n",
    "FactoriesDoc = FactoriesDF.to_dict(orient = \"records\")\n",
    "for x in FactoriesDoc:\n",
    "    x[\"_id\"] = x.pop('FACTORY_ID')\n",
    "#############################    \n",
    "Factories.insert_many(FactoriesDoc)"
   ]
  },
  {
   "cell_type": "code",
   "execution_count": 22,
   "id": "6d80d8d5-7949-4c73-98ff-a56f38f2e58c",
   "metadata": {},
   "outputs": [
    {
     "data": {
      "text/plain": [
       "InsertManyResult([1, 2, 3, 4, 5, 6, 7, 8, 9, 10, 11, 12, 13, 14, 15, 16, 17, 18, 19, 20, 21, 22, 23, 24, 25, 26, 27, 28, 29, 30, 31, 32, 33, 34, 35, 36, 37, 38, 39, 40, 41, 42, 43, 44, 45, 46, 47, 48, 49, 50, 51, 52, 53, 54, 55, 56, 57, 58, 59, 60, 61, 62, 63, 64, 65, 66, 67, 68, 69, 70, 71, 72, 73, 74, 75, 76, 77, 78, 79, 80, 81, 82, 83, 84, 85, 86, 87, 88, 89, 90, 91, 92, 93, 94, 95, 96, 97, 98, 99, 100, 101, 102, 103, 104, 105, 106, 107, 108, 109, 110, 111, 112, 113, 114, 115, 116, 117, 118, 119, 120, 121, 122, 123, 124, 125, 126, 127, 128, 129, 130, 131, 132, 133, 134, 135, 136, 137, 138, 139, 140, 141, 142, 143, 144, 145, 146, 147, 148, 149, 150, 151, 152, 153, 154, 155, 156, 157, 158, 159, 160, 161, 162, 163, 164, 165, 649, 650, 651, 652, 653, 654, 655, 656, 657, 658, 659, 660, 661, 662, 663, 664, 665, 666, 667, 668, 669, 670, 671, 672, 673, 674, 675, 676, 677, 678, 679, 680, 681, 682, 683, 684, 685, 686, 687, 688, 689, 690, 691, 692, 693, 694, 695, 166, 167, 168, 169, 170, 171, 172, 173, 174, 175, 176, 177, 178, 179, 180, 181, 182, 183, 184, 185, 186, 187, 188, 189, 190, 191, 192, 193, 194, 195, 196, 197, 198, 199, 200, 201, 202, 203, 204, 205, 206, 207, 208, 209, 210, 211, 212, 213, 214, 215, 216, 217, 218, 219, 220, 221, 222, 223, 224, 225, 226, 227, 228, 229, 230, 231, 232, 233, 234, 235, 236, 237, 238, 239, 240, 241, 242, 243, 244, 245, 246, 247, 248, 249, 250, 251, 252, 253, 254, 255, 256, 257, 258, 259, 260, 261, 262, 263, 264, 265, 266, 267, 268, 269, 270, 271, 272, 273, 274, 275, 276, 277, 278, 279, 280, 281, 282, 283, 284, 285, 286, 287, 288, 289, 290, 291, 292, 293, 294, 295, 296, 297, 298, 299, 300, 301, 302, 303, 304, 305, 306, 307, 308, 309, 310, 311, 312, 313, 314, 315, 316, 317, 318, 319, 320, 321, 322, 323, 324, 325, 326, 327, 328, 329, 330, 331, 332, 333, 334, 335, 336, 337, 338, 339, 340, 341, 342, 343, 344, 345, 346, 347, 348, 349, 350, 351, 352, 353, 354, 355, 356, 357, 358, 359, 360, 361, 362, 363, 364, 365, 366, 367, 368, 369, 370, 371, 372, 373, 374, 375, 376, 377, 378, 379, 380, 381, 382, 383, 384, 385, 386, 387, 388, 389, 390, 391, 392, 393, 394, 395, 396, 397, 398, 399, 400, 401, 402, 403, 404, 405, 406, 407, 408, 409, 410, 411, 412, 413, 414, 415, 416, 417, 418, 419, 420, 421, 422, 423, 424, 425, 426, 427, 428, 429, 430, 431, 432, 433, 434, 435, 436, 437, 438, 439, 440, 441, 442, 443, 444, 445, 446, 447, 448, 449, 450, 451, 452, 453, 454, 455, 456, 457, 458, 459, 460, 461, 462, 463, 464, 465, 466, 467, 468, 469, 470, 471, 472, 473, 474, 475, 476, 477, 478, 479, 480, 481, 482, 483, 484, 485, 486, 487, 488, 489, 490, 491, 492, 493, 494, 495, 496, 497, 498, 499, 500, 501, 502, 503, 504, 505, 506, 507, 508, 509, 510, 511, 512, 513, 514, 515, 516, 517, 518, 519, 520, 521, 522, 523, 524, 525, 526, 527, 528, 529, 530, 531, 532, 533, 534, 535, 536, 537, 538, 539, 540, 541, 542, 543, 544, 545, 546, 547, 548, 549, 550, 551, 552, 553, 554, 555, 556, 557, 558, 559, 560, 561, 562, 563, 564, 565, 566, 567, 568, 569, 570, 571, 572, 573, 574, 575, 576, 577, 578, 579, 580, 581, 582, 583, 584, 585, 586, 587, 588, 589, 590, 591, 592, 593, 594, 595, 596, 597, 598, 599, 600, 601, 602, 603, 604, 605, 606, 607, 608, 609, 610, 611, 612, 613, 614, 615, 616, 617, 618, 619, 620, 621, 622, 623, 624, 625, 626, 627, 628, 629, 630, 631, 632, 633, 634, 635, 636, 637, 638, 639, 640, 641, 642, 643, 644, 645, 646, 647, 648], acknowledged=True)"
      ]
     },
     "execution_count": 22,
     "metadata": {},
     "output_type": "execute_result"
    }
   ],
   "source": [
    "Stock = FactoryDB[\"StockCollection\"]\n",
    "#############################\n",
    "StockDoc = StockDF.to_dict(orient = \"records\")\n",
    "for x in StockDoc:\n",
    "    x[\"_id\"] = x.pop('SERIALNUMBER_ID')\n",
    "#############################    \n",
    "Stock.insert_many(StockDoc)"
   ]
  },
  {
   "cell_type": "code",
   "execution_count": 14,
   "id": "ca432026-6872-47ca-9e37-40d0fa0c52ca",
   "metadata": {},
   "outputs": [
    {
     "data": {
      "text/plain": [
       "InsertManyResult([1, 2, 3, 4, 5, 6, 7, 8, 9, 10, 11, 12, 13, 14, 15, 16, 17, 18, 19, 20, 21, 22, 23, 24, 25, 26, 27, 28, 29, 30, 31, 32, 33, 34, 35, 36, 37, 38, 39, 40, 41, 42, 43, 44, 45, 46, 47, 48, 49, 50, 51, 52, 53, 54, 55, 56, 57, 58, 59, 60, 61, 62, 63, 64, 65, 66, 67, 68, 69, 70, 71, 72, 73, 74, 75, 76, 77, 78, 79, 80, 81, 82, 83, 84, 85, 86, 87, 88, 89, 90, 91, 92, 93, 94, 95, 96, 97, 98, 99, 100, 101, 102, 103, 104, 105, 106, 107, 108, 109, 110, 111, 112, 113, 114, 115, 116, 117, 118, 119, 120, 121, 122, 123, 124, 125, 126, 127, 128, 129, 130, 131, 132, 133, 134, 135, 136, 137, 138, 139, 140, 141, 142, 143, 144, 145, 146, 147, 148, 149, 150, 151, 152, 153, 154, 155, 156, 157, 158, 159, 160, 161, 162, 163, 164, 165, 166, 167, 168, 169, 170, 171, 172, 173, 174, 175, 176, 177, 178, 179, 180, 181, 182, 183, 184, 185, 186, 187, 188, 189, 190, 191, 192, 193, 194, 195, 196, 197, 198, 199, 200, 201, 202, 203, 204, 205, 206, 207, 208, 209, 210, 211, 212, 213, 214, 215, 216, 217, 218, 219, 220, 221, 222, 223, 224, 225, 226, 227, 228, 229, 230, 231, 232, 233, 234, 235, 236, 237, 238, 239, 240, 241, 242, 243, 244, 245, 246, 247, 248, 249, 250, 251, 252, 253, 254, 255, 256, 257, 258, 259, 260, 261, 262, 263, 264, 265, 266, 267, 268, 269, 270, 271, 272, 273, 274, 275, 276, 277, 278, 279, 280, 281, 282, 283, 284, 285, 286, 287, 288, 289, 290, 291, 292, 293, 294, 295, 296, 297, 298, 299, 300, 301, 302, 303, 304, 305, 306, 307, 308, 309, 310, 311, 312, 313, 314, 315, 316, 317, 318, 319, 320, 321, 322, 323, 324, 325, 326, 327, 328, 329, 330, 331, 332, 333, 334, 335, 336, 337, 338, 339, 340, 341, 342, 343, 344, 345, 346, 347, 348, 349, 350, 351, 352, 353, 354, 355, 356, 357, 358, 359, 360, 361, 362, 363, 364, 365, 366, 367, 368, 369, 370, 371, 372, 373, 374, 375, 376, 377, 378, 379, 380, 381, 382, 383, 384, 385, 386, 387, 388, 389, 390, 391, 392, 393, 394, 395, 396, 397, 398, 399, 400, 401, 402, 403, 404, 405, 406, 407, 408, 409, 410, 411, 412, 413, 414, 415, 416, 417, 418, 419, 420, 421, 422, 423, 424, 425, 426, 427, 428, 429, 430, 431, 432, 433, 434, 435, 436, 437, 438, 439, 440, 441, 442, 443, 444, 445, 446, 447, 448, 449, 450, 451, 452, 453, 454, 455, 456, 457, 458, 459, 460, 461, 462, 463, 464, 465, 466, 467, 468, 469, 470, 471, 472, 473, 474, 475, 476, 477, 478, 479, 480, 481, 482, 483, 484, 485, 486, 487, 488, 489, 490, 491, 492, 493, 494, 495, 496, 497, 498, 499, 500, 501, 502, 503, 504, 505, 506, 507, 508, 509, 510, 511, 512, 513, 514, 515, 516, 517, 518, 519, 520, 521, 522, 523, 524, 525, 526, 527, 528, 529, 530, 531, 532, 533, 534, 535, 536, 537, 538, 539, 540, 541, 542, 543, 544, 545, 546, 547, 548, 549, 550, 551, 552, 553, 554, 555, 556, 557, 558, 559, 560, 561, 562, 563, 564, 565, 566, 567, 568, 569, 570, 571, 572, 573, 574, 575, 576, 577, 578, 579, 580, 581, 582, 583, 584, 585, 586, 587, 588, 589, 590, 591, 592, 593, 594, 595, 596, 597, 598, 599, 600], acknowledged=True)"
      ]
     },
     "execution_count": 14,
     "metadata": {},
     "output_type": "execute_result"
    }
   ],
   "source": [
    "Employees = FactoryDB[\"EmployeesCollection\"]\n",
    "#############################\n",
    "EmployeesDoc = EmployeesDF.to_dict(orient = \"records\")\n",
    "for x in EmployeesDoc:\n",
    "    x[\"_id\"] = x.pop('EMPLOYEE_ID')\n",
    "#############################    \n",
    "Employees.insert_many(EmployeesDoc)"
   ]
  },
  {
   "cell_type": "code",
   "execution_count": 65,
   "id": "c17ab23d-1843-4f91-88dc-75c1062d488d",
   "metadata": {},
   "outputs": [
    {
     "data": {
      "text/plain": [
       "InsertManyResult([1, 2, 3, 4, 5, 6, 7, 8, 9, 10, 11, 12, 13, 14, 15, 16, 17, 18, 19, 20, 21, 22, 23, 24, 25, 26, 27, 28, 29, 30, 31, 32, 33, 34, 35, 36, 37, 38, 39, 40, 41, 42, 43, 44, 45, 46, 47, 48, 49, 50, 51, 52, 53, 54, 55, 56, 57, 58, 59, 60, 61, 62, 63, 64, 65, 66, 67, 68, 69, 70, 71, 72, 73, 74, 75, 76, 77, 78, 79, 80, 81, 82, 83, 84, 85, 86, 87, 88, 89, 90, 91, 92, 93, 94, 95, 96, 97, 98, 99, 100, 101, 102, 103, 104, 105, 106, 107, 108, 109, 110, 111, 112, 113, 114, 115, 116, 117, 118, 119, 120, 121, 122, 123, 124, 125, 126, 127, 128, 129, 130, 131, 132, 133, 134, 135, 136, 137, 138, 139, 140, 141, 142, 143, 144, 145, 146, 147, 148, 149, 150, 151, 152, 153, 154, 155, 156, 157, 158, 159, 160, 161, 162, 163, 164, 165, 166, 167, 168, 169, 170, 171, 172, 173, 174, 175, 176, 177, 178, 179, 180, 181, 182, 183, 184, 185, 186, 187, 188, 189, 190, 191, 192, 193, 194, 195, 196, 197, 198, 199, 200, 201, 202, 203, 204, 205, 206, 207, 208, 209, 210, 211, 212, 213, 214, 215, 216, 217, 218, 219, 220, 221, 222, 223, 224, 225, 226, 227, 228, 229, 230, 231, 232, 233, 234, 235, 236, 237, 238, 239, 240, 241, 242, 243, 244, 245, 246, 247, 248, 249, 250, 251, 252, 253, 254, 255, 256, 257, 258, 259, 260, 261, 262, 263, 264, 265, 266, 267, 268, 269, 270, 271, 272, 273, 274, 275, 276, 277, 278, 279, 280, 281, 282, 283, 284, 285, 286, 287, 288, 289, 290, 291, 292, 293, 294, 295, 296, 297, 298, 299, 300, 301, 302, 303, 304, 305, 306, 307, 308, 309, 310, 311, 312, 313, 314, 315, 316, 317, 318, 319, 320, 321, 322, 323, 324, 325, 326, 327, 328, 329, 330, 331, 332, 333, 334, 335, 336, 337, 338, 339, 340, 341, 342, 343, 344, 345, 346, 347, 348, 349, 350, 351, 352, 353, 354, 355, 356, 357, 358, 359, 360, 361, 362, 363, 364, 365, 366, 367, 368, 369, 370, 371, 372, 373, 374, 375, 376, 377, 378, 379, 380, 381, 382, 383, 384, 385, 386, 387, 388, 389, 390, 391, 392, 393, 394, 395, 396, 397, 398, 399, 400, 401, 402, 403, 404, 405, 406, 407, 408, 409, 410, 411, 412, 413, 414, 415, 416, 417, 418, 419, 420, 421, 422, 423, 424, 425, 426, 427, 428, 429, 430, 431, 432, 433, 434, 435, 436, 437, 438, 439, 440, 441, 442, 443, 444, 445, 446, 447, 448, 449, 450, 451, 452, 453, 454, 455, 456, 457, 458, 459, 460, 461, 462, 463, 464, 465, 466, 467, 468, 469, 470, 471, 472, 473, 474, 475, 476, 477, 478, 479, 480, 481, 482, 483, 484, 485, 486, 487, 488, 489, 490, 491, 492, 493, 494, 495, 496, 497, 498, 499, 500, 501, 502, 503, 504, 505, 506, 507, 508, 509, 510, 511, 512, 513, 514, 515, 516, 517, 518, 519, 520, 521, 522, 523, 524, 525, 526, 527, 528, 529, 530, 531, 532, 533, 534, 535, 536, 537, 538, 539, 540, 541, 542, 543, 544, 545, 546, 547, 548, 549, 550, 551, 552, 553, 554, 555, 556, 557, 558, 559, 560, 561, 562, 563, 564, 565, 566, 567, 568, 569, 570, 571, 572, 573, 574, 575, 576, 577, 578, 579, 580, 581, 582, 583, 584, 585, 586, 587, 588, 589, 590, 591, 592, 593, 594, 595, 596, 597, 598, 599, 600], acknowledged=True)"
      ]
     },
     "execution_count": 65,
     "metadata": {},
     "output_type": "execute_result"
    }
   ],
   "source": [
    "Parts = FactoryDB[\"PartsCollection\"]\n",
    "#############################\n",
    "PartsDoc = PartsDF.to_dict(orient = \"records\")\n",
    "for x in PartsDoc:\n",
    "    x[\"_id\"] = x.pop('PART_ID')\n",
    "#############################    \n",
    "Parts.insert_many(PartsDoc)"
   ]
  },
  {
   "cell_type": "code",
   "execution_count": null,
   "id": "badfe7ef-d115-446f-8c2b-d86eaf63362b",
   "metadata": {},
   "outputs": [],
   "source": [
    "Environmental_Costs = FactoryDB[\"Environmental_CostsCollection\"]\n",
    "#############################\n",
    "Environmental_CostsDoc = Environmental_costsDF.to_dict(orient = \"records\")\n",
    "'''\n",
    "for x in Environmental_costsDoc:\n",
    "    x[\"_id\"] = x.pop('FACTORY_ID')\n",
    "\n",
    "'''\n",
    "#############################    \n",
    "#Environmental_Costs.insert_many(Environmental_CostsDoc)\n",
    "#Emply tabel"
   ]
  },
  {
   "cell_type": "code",
   "execution_count": null,
   "id": "f4e5808f-f59d-4393-a4a8-d3dc575a6f1f",
   "metadata": {},
   "outputs": [],
   "source": [
    "Production_Plan = FactoryDB[\"Production_PlanCollection\"]\n",
    "#############################\n",
    "Production_PlanDoc = Production_planDF.to_dict(orient = \"records\")\n",
    "'''\n",
    "for x in Production_PlanDoc:\n",
    "    x[\"_id\"] = x.pop('FACTORY_ID')\n",
    "\n",
    "'''\n",
    "#############################    \n",
    "#Environmental_Costs"
   ]
  },
  {
   "cell_type": "code",
   "execution_count": 28,
   "id": "e2c045c0-8a0c-4ac1-9f8f-dc5069c9de67",
   "metadata": {},
   "outputs": [
    {
     "data": {
      "text/plain": [
       "InsertManyResult([1, 2, 3, 4, 5, 6, 7, 8, 9, 10, 11, 12, 13, 14, 15, 16, 17, 18, 19, 20, 21, 22, 23, 24, 25, 26, 27, 28, 29, 30, 31, 32, 33, 34, 35, 36, 37, 38, 39, 40, 41, 42, 43, 44, 45, 46, 47, 48, 49, 50, 51, 52, 53, 54, 55, 56, 57, 58, 59, 60, 61, 62, 63, 64, 65, 66, 67, 68, 69, 70, 71, 72, 73, 74, 75, 76, 77, 78, 79, 80, 81, 82, 83, 84, 85, 86, 87, 88, 89, 90, 91, 92, 93, 94, 95, 96, 97, 98, 99, 100, 101, 102, 103, 104, 105, 106, 107, 108, 109, 110, 111, 112, 113, 114, 115, 116, 117, 118, 119, 120, 121, 122, 123, 124, 125, 126, 127, 128, 129, 130, 131, 132, 133, 134, 135, 136, 137, 138, 139, 140, 141, 142, 143, 144, 145, 146, 147, 148, 149, 150, 151, 152, 153, 154, 155, 156, 157, 158, 159, 160, 161, 162, 163, 164, 165, 166, 167, 168, 169, 170, 171, 172, 173, 174, 175, 176, 177, 178, 179, 180, 181, 182, 183, 184, 185, 186, 187, 188, 189, 190, 191, 192, 193, 194, 195, 196, 197, 198, 199, 200, 201, 202, 203, 204, 205, 206, 207, 208, 209, 210, 211, 212, 213, 214, 215, 216, 217, 218, 219, 220, 221, 222, 223, 224, 225, 226, 227, 228, 229, 230, 231, 232, 233, 234, 235, 236, 237, 238, 239, 240, 241, 242, 243, 244, 245, 246, 247, 248, 249, 250, 251, 252, 253, 254, 255, 256, 257, 258, 259, 260, 261, 262, 263, 264, 265, 266, 267, 268, 269, 270, 271, 272, 273, 274, 275, 276, 277, 278, 279, 280, 281, 282, 283, 284, 285, 286, 287, 288, 289, 290, 291, 292, 293, 294, 295, 296, 297, 298, 299, 300, 301, 302, 303, 304, 305, 306, 307, 308, 309, 310, 311, 312, 313, 314, 315, 316, 317, 318, 319, 320, 321, 322, 323, 324, 325, 326, 327, 328, 329, 330, 331, 332, 333, 334, 335, 336, 337, 338, 339, 340, 341, 342, 343, 344, 345, 346, 347, 348, 349, 350, 351, 352, 353, 354, 355, 356, 357, 358, 359, 360, 361, 362, 363, 364, 365, 366, 367, 368, 369, 370, 371, 372, 373, 374, 375, 376, 377, 378, 379, 380, 381, 382, 383, 384, 385, 386, 387, 388, 389, 390, 391, 392, 393, 394, 395, 396, 397, 398, 399, 400, 401, 402, 403, 404, 405, 406, 407, 408, 409, 410, 411, 412, 413, 414, 415, 416, 417, 418, 419, 420, 421, 422, 423, 424, 425, 426, 427, 428, 429, 430, 431, 432, 433, 434, 435, 436, 437, 438, 439, 440, 441, 442, 443, 444, 445, 446, 447, 448, 449, 450, 451, 452, 453, 454, 455, 456, 457, 458, 459, 460, 461, 462, 463, 464, 465, 466, 467, 468, 469, 470, 471, 472, 473, 474, 475, 476, 477, 478, 479, 480, 481, 482, 483, 484, 485, 486, 487, 488, 489, 490, 491, 492, 493, 494, 495, 496, 497, 498, 499, 500, 501, 502, 503, 504, 505, 506, 507, 508, 509, 510, 511, 512, 513, 514, 515, 516, 517, 518, 519, 520, 521, 522, 523, 524, 525, 526, 527, 528, 529, 530, 531, 532, 533, 534, 535, 536, 537, 538, 539, 540, 541, 542, 543, 544, 545, 546, 547, 548, 549, 550, 551, 552, 553, 554, 555, 556, 557, 558, 559, 560, 561, 562, 563, 564, 565, 566, 567, 568, 569, 570, 571, 572, 573, 574, 575, 576, 577, 578, 579, 580, 581, 582, 583, 584, 585, 586, 587, 588, 589, 590, 591, 592, 593, 594, 595, 596, 597, 598, 599, 600, 601, 602, 603, 604, 605, 606, 607, 608, 609, 610, 611, 612, 613, 614, 615, 616, 617, 618, 619, 620, 621, 622, 623, 624, 625, 626, 627, 628, 629, 630, 631, 632, 633, 634, 635, 636, 637, 638, 639, 640, 641, 642, 643, 644, 645, 646, 647, 648, 649, 650, 651, 652, 653, 654, 655, 656, 657, 658, 659, 660, 661, 662, 663, 664, 665, 666, 667, 668, 669, 670, 671, 672, 673, 674, 675, 676, 677, 678, 679, 680, 681, 682, 683, 684, 685, 686, 687, 688, 689, 690, 691, 692, 693, 694, 695], acknowledged=True)"
      ]
     },
     "execution_count": 28,
     "metadata": {},
     "output_type": "execute_result"
    }
   ],
   "source": [
    "Safety_Measurements = FactoryDB[\"Safety_MeasurementsCollection\"]\n",
    "#############################\n",
    "Safety_MeasurementsDoc = Safety_measurementsDF.to_dict(orient = \"records\")\n",
    "for x in Safety_MeasurementsDoc:\n",
    "    x[\"_id\"] = x.pop('S_MEASURE_ID')\n",
    "#############################    \n",
    "Safety_Measurements.insert_many(Safety_MeasurementsDoc)"
   ]
  },
  {
   "cell_type": "code",
   "execution_count": null,
   "id": "8531d11f-d12b-4fff-8466-aaecfd842936",
   "metadata": {},
   "outputs": [],
   "source": [
    "Salary = FactoryDB[\"SalaryCollection\"]\n",
    "#############################\n",
    "SalaryDoc = SalaryDF.to_dict(orient = \"records\")\n",
    "for x in SalaryDoc:\n",
    "    x[\"_id\"] = x.pop('ID')\n",
    "#############################    \n",
    "Salary.insert_many(SalaryDoc)"
   ]
  },
  {
   "cell_type": "code",
   "execution_count": 8,
   "id": "71dba4ea-54b4-4416-8a2e-886bae71a2c8",
   "metadata": {},
   "outputs": [
    {
     "data": {
      "text/plain": [
       "InsertManyResult([1, 2, 3, 4, 5, 6, 7, 8, 9, 10, 11, 12, 13, 14, 15, 16, 17, 18, 19, 20, 21, 22, 23, 24, 25, 26, 27, 28, 29, 30, 31, 32, 33, 34, 35, 36, 37, 38, 39, 40, 41, 42, 43, 44, 45, 46, 47, 48, 49, 50, 51, 52, 53, 54, 55, 56, 57, 58, 59, 60, 61, 62, 63, 64, 65, 66, 67, 68, 69, 70, 71, 72, 73, 74, 75, 76, 77, 78, 79, 80, 81, 82, 83, 84, 85, 86, 87, 88, 89, 90, 91, 92, 93, 94, 95, 96, 97, 98, 99, 100, 101, 102, 103, 104, 105, 106, 107, 108, 109, 110, 111, 112, 113, 114, 115, 116, 117, 118, 119, 120, 121, 122, 123, 124, 125, 126, 127, 128, 129, 130, 131, 132, 133, 134, 135, 136, 137, 138, 139, 140, 141, 142, 143, 144, 145, 146, 147, 148, 149, 150, 151, 152, 153, 154, 155, 156, 157, 158, 159, 160, 161, 162, 163, 164, 165, 166, 167, 168, 169, 170, 171, 172, 173, 174, 175, 176, 177, 178, 179, 180, 181, 182, 183, 184, 185, 186, 187, 188, 189, 190, 191, 192, 193, 194, 195, 196, 197, 198, 199, 200], acknowledged=True)"
      ]
     },
     "execution_count": 8,
     "metadata": {},
     "output_type": "execute_result"
    }
   ],
   "source": [
    "Sales = FactoryDB[\"SalesCollection\"]\n",
    "#############################\n",
    "SalesDoc = SalesDF.to_dict(orient = \"records\")\n",
    "for x in SalesDoc:\n",
    "    x[\"_id\"] = x.pop('ID')\n",
    "#############################    \n",
    "Sales.insert_many(SalesDoc)"
   ]
  },
  {
   "cell_type": "code",
   "execution_count": null,
   "id": "811d947a-3e8b-4340-a94b-95331e6c35a2",
   "metadata": {},
   "outputs": [],
   "source": [
    "Shifts = FactoryDB[\"ShiftsCollection\"]\n",
    "#############################\n",
    "ShiftsDoc = ShiftsDF.to_dict(orient = \"records\")\n",
    "for x in ShiftsDoc:\n",
    "    x[\"_id\"] = x.pop('SHIFT_ID')\n",
    "#############################    \n",
    "Shifts.insert_many(ShiftsDoc)"
   ]
  },
  {
   "cell_type": "code",
   "execution_count": null,
   "id": "89751058-0f8b-449c-9208-c83f491e50c5",
   "metadata": {},
   "outputs": [],
   "source": [
    "SKU = FactoryDB[\"SKUCollection\"]\n",
    "#############################\n",
    "SKUDF[\"WITHDRAWAL_DATE\"] = SKUDF[\"WITHDRAWAL_DATE\"].replace({pd.NaT: None})\n",
    "SKUDoc = SKUDF.to_dict(orient = \"records\")\n",
    "for x in SKUDoc:\n",
    "    x[\"_id\"] = x.pop('SKU_ID')\n",
    "#############################    \n",
    "SKU.insert_many(SKUDoc)"
   ]
  },
  {
   "cell_type": "code",
   "execution_count": null,
   "id": "0e703aeb-b7db-4444-b3e6-b581cfe8741f",
   "metadata": {},
   "outputs": [],
   "source": [
    "SKU_Parts = FactoryDB[\"SKU_PartsCollection\"]\n",
    "#############################\n",
    "SKU_PartsDoc = SKU_PartsDF.to_dict(orient = \"records\")\n",
    "for x in SKU_PartsDoc:\n",
    "    x[\"_id\"] = x.pop('ID')\n",
    "#############################    \n",
    "SKU_Parts.insert_many(SKU_PartsDoc)"
   ]
  },
  {
   "cell_type": "code",
   "execution_count": null,
   "id": "b51b24e1-cff6-423f-9f6f-22665543b446",
   "metadata": {},
   "outputs": [],
   "source": [
    "Suppliers = FactoryDB[\"SuppliersCollection\"]\n",
    "#############################\n",
    "SuppliersDoc = SuppliersDF.to_dict(orient = \"records\")\n",
    "for x in SuppliersDoc:\n",
    "    x[\"_id\"] = x.pop('SUPP_ID')\n",
    "#############################    \n",
    "Suppliers.insert_many(SuppliersDoc)"
   ]
  },
  {
   "cell_type": "code",
   "execution_count": null,
   "id": "568bee36-89d0-479f-9dad-5ddb8929709c",
   "metadata": {},
   "outputs": [],
   "source": [
    "Taxes = FactoryDB[\"TaxesCollection\"]\n",
    "#############################\n",
    "TaxesDoc = TaxesDF.to_dict(orient = \"records\")\n",
    "'''\n",
    "for x in Production_PlanDoc:\n",
    "    x[\"_id\"] = x.pop('FACTORY_ID')\n",
    "\n",
    "'''\n",
    "#############################    \n",
    "#Taxes"
   ]
  },
  {
   "cell_type": "code",
   "execution_count": null,
   "id": "690ff08c-6ccf-4dfe-b2d7-b6749e07aea8",
   "metadata": {},
   "outputs": [],
   "source": [
    "Total_Costs = FactoryDB[\"Total_CostsCollection\"]\n",
    "#############################\n",
    "Total_CostsDoc = Total_costsDF.to_dict(orient = \"records\")\n",
    "'''\n",
    "for x in Production_PlanDoc:\n",
    "    x[\"_id\"] = x.pop('FACTORY_ID')\n",
    "\n",
    "'''\n",
    "#############################    \n",
    "#Total_Costs"
   ]
  },
  {
   "cell_type": "markdown",
   "id": "bad1acfa-bb54-4063-a6eb-238856a1214a",
   "metadata": {},
   "source": [
    "# Querys"
   ]
  },
  {
   "cell_type": "markdown",
   "id": "1405a034-d015-4885-9205-a7469d24294e",
   "metadata": {},
   "source": [
    "## Single value query"
   ]
  },
  {
   "cell_type": "code",
   "execution_count": 19,
   "id": "a1103f89-7134-4d1a-a3e0-437387374934",
   "metadata": {},
   "outputs": [
    {
     "data": {
      "text/plain": [
       "{'_id': 28,\n",
       " 'NAME': 'Schistostega Moss',\n",
       " 'COUNTRY': 'Poland',\n",
       " 'POSTAL_CODE': '37-303',\n",
       " 'CITY': 'Kuryłówka'}"
      ]
     },
     "execution_count": 19,
     "metadata": {},
     "output_type": "execute_result"
    }
   ],
   "source": [
    "Factories.find_one({\"_id\": 28})"
   ]
  },
  {
   "cell_type": "code",
   "execution_count": 18,
   "id": "c1333341-2ddd-4efb-9014-5080ecc18502",
   "metadata": {},
   "outputs": [
    {
     "data": {
      "text/plain": [
       "{'_id': 90,\n",
       " 'NAME': 'Halley',\n",
       " 'SURNAME': 'Charlick',\n",
       " 'POSITION': 'operator',\n",
       " 'ASSIGNED_SHIFT_ID': 7,\n",
       " 'FACTORY_ID': 28}"
      ]
     },
     "execution_count": 18,
     "metadata": {},
     "output_type": "execute_result"
    }
   ],
   "source": [
    "Employees.find_one({\"_id\": 90})"
   ]
  },
  {
   "cell_type": "code",
   "execution_count": 79,
   "id": "07f6544a-71bc-4bdb-b16d-414371e6c512",
   "metadata": {},
   "outputs": [
    {
     "name": "stdout",
     "output_type": "stream",
     "text": [
      "The history saving thread hit an unexpected error (OperationalError('attempt to write a readonly database')).History will not be written to the database.\n"
     ]
    },
    {
     "data": {
      "text/plain": [
       "{'_id': 3, 'NAME': 'Glass', 'COST': 631.07, 'SUPP_ID': 127}"
      ]
     },
     "execution_count": 79,
     "metadata": {},
     "output_type": "execute_result"
    }
   ],
   "source": [
    "Parts.find_one({\"NAME\": \"Glass\"})"
   ]
  },
  {
   "cell_type": "markdown",
   "id": "ce8dcf89-8dba-4699-b876-39f692e75b3d",
   "metadata": {},
   "source": [
    "## List of objects query"
   ]
  },
  {
   "cell_type": "code",
   "execution_count": 27,
   "id": "1854815e-46e4-477e-ac47-175253156527",
   "metadata": {},
   "outputs": [
    {
     "data": {
      "text/html": [
       "<div>\n",
       "<style scoped>\n",
       "    .dataframe tbody tr th:only-of-type {\n",
       "        vertical-align: middle;\n",
       "    }\n",
       "\n",
       "    .dataframe tbody tr th {\n",
       "        vertical-align: top;\n",
       "    }\n",
       "\n",
       "    .dataframe thead th {\n",
       "        text-align: right;\n",
       "    }\n",
       "</style>\n",
       "<table border=\"1\" class=\"dataframe\">\n",
       "  <thead>\n",
       "    <tr style=\"text-align: right;\">\n",
       "      <th></th>\n",
       "      <th>_id</th>\n",
       "      <th>SERIALNUMBER</th>\n",
       "      <th>PRODUCTION_DATE</th>\n",
       "      <th>FACTORY_ID</th>\n",
       "      <th>SKU_ID</th>\n",
       "      <th>S_MEASURE_ID</th>\n",
       "    </tr>\n",
       "  </thead>\n",
       "  <tbody>\n",
       "    <tr>\n",
       "      <th>0</th>\n",
       "      <td>160</td>\n",
       "      <td>ZHWGU5BZ1CL316738</td>\n",
       "      <td>2020-05-21</td>\n",
       "      <td>53</td>\n",
       "      <td>74</td>\n",
       "      <td>6</td>\n",
       "    </tr>\n",
       "    <tr>\n",
       "      <th>1</th>\n",
       "      <td>547</td>\n",
       "      <td>ZHWGU5BZ6CL656824</td>\n",
       "      <td>2020-10-30</td>\n",
       "      <td>74</td>\n",
       "      <td>11</td>\n",
       "      <td>140</td>\n",
       "    </tr>\n",
       "    <tr>\n",
       "      <th>2</th>\n",
       "      <td>645</td>\n",
       "      <td>ZHWGU5BR9EL938037</td>\n",
       "      <td>2020-06-26</td>\n",
       "      <td>34</td>\n",
       "      <td>29</td>\n",
       "      <td>670</td>\n",
       "    </tr>\n",
       "  </tbody>\n",
       "</table>\n",
       "</div>"
      ],
      "text/plain": [
       "   _id       SERIALNUMBER PRODUCTION_DATE  FACTORY_ID  SKU_ID  S_MEASURE_ID\n",
       "0  160  ZHWGU5BZ1CL316738      2020-05-21          53      74             6\n",
       "1  547  ZHWGU5BZ6CL656824      2020-10-30          74      11           140\n",
       "2  645  ZHWGU5BR9EL938037      2020-06-26          34      29           670"
      ]
     },
     "execution_count": 27,
     "metadata": {},
     "output_type": "execute_result"
    }
   ],
   "source": [
    "pd.DataFrame(Stock.find( { 'SERIALNUMBER': {\"$regex\": \"^ZH\"}}))"
   ]
  },
  {
   "cell_type": "code",
   "execution_count": 9,
   "id": "f7cd8a32-701d-4f58-82b6-7afe165051d5",
   "metadata": {},
   "outputs": [
    {
     "data": {
      "text/html": [
       "<div>\n",
       "<style scoped>\n",
       "    .dataframe tbody tr th:only-of-type {\n",
       "        vertical-align: middle;\n",
       "    }\n",
       "\n",
       "    .dataframe tbody tr th {\n",
       "        vertical-align: top;\n",
       "    }\n",
       "\n",
       "    .dataframe thead th {\n",
       "        text-align: right;\n",
       "    }\n",
       "</style>\n",
       "<table border=\"1\" class=\"dataframe\">\n",
       "  <thead>\n",
       "    <tr style=\"text-align: right;\">\n",
       "      <th></th>\n",
       "      <th>_id</th>\n",
       "      <th>YEAR</th>\n",
       "      <th>MONTH</th>\n",
       "      <th>INCOME</th>\n",
       "      <th>FACTORY_ID</th>\n",
       "    </tr>\n",
       "  </thead>\n",
       "  <tbody>\n",
       "    <tr>\n",
       "      <th>0</th>\n",
       "      <td>1</td>\n",
       "      <td>2018</td>\n",
       "      <td>June</td>\n",
       "      <td>4064.90</td>\n",
       "      <td>100</td>\n",
       "    </tr>\n",
       "    <tr>\n",
       "      <th>1</th>\n",
       "      <td>2</td>\n",
       "      <td>2021</td>\n",
       "      <td>November</td>\n",
       "      <td>8194.56</td>\n",
       "      <td>85</td>\n",
       "    </tr>\n",
       "    <tr>\n",
       "      <th>2</th>\n",
       "      <td>4</td>\n",
       "      <td>2018</td>\n",
       "      <td>August</td>\n",
       "      <td>7087.10</td>\n",
       "      <td>53</td>\n",
       "    </tr>\n",
       "    <tr>\n",
       "      <th>3</th>\n",
       "      <td>6</td>\n",
       "      <td>2023</td>\n",
       "      <td>June</td>\n",
       "      <td>6787.37</td>\n",
       "      <td>77</td>\n",
       "    </tr>\n",
       "    <tr>\n",
       "      <th>4</th>\n",
       "      <td>8</td>\n",
       "      <td>2023</td>\n",
       "      <td>March</td>\n",
       "      <td>5555.86</td>\n",
       "      <td>11</td>\n",
       "    </tr>\n",
       "    <tr>\n",
       "      <th>...</th>\n",
       "      <td>...</td>\n",
       "      <td>...</td>\n",
       "      <td>...</td>\n",
       "      <td>...</td>\n",
       "      <td>...</td>\n",
       "    </tr>\n",
       "    <tr>\n",
       "      <th>130</th>\n",
       "      <td>194</td>\n",
       "      <td>2023</td>\n",
       "      <td>December</td>\n",
       "      <td>6368.01</td>\n",
       "      <td>60</td>\n",
       "    </tr>\n",
       "    <tr>\n",
       "      <th>131</th>\n",
       "      <td>196</td>\n",
       "      <td>2021</td>\n",
       "      <td>September</td>\n",
       "      <td>9967.93</td>\n",
       "      <td>34</td>\n",
       "    </tr>\n",
       "    <tr>\n",
       "      <th>132</th>\n",
       "      <td>198</td>\n",
       "      <td>2020</td>\n",
       "      <td>October</td>\n",
       "      <td>9361.87</td>\n",
       "      <td>79</td>\n",
       "    </tr>\n",
       "    <tr>\n",
       "      <th>133</th>\n",
       "      <td>199</td>\n",
       "      <td>2023</td>\n",
       "      <td>May</td>\n",
       "      <td>4940.86</td>\n",
       "      <td>98</td>\n",
       "    </tr>\n",
       "    <tr>\n",
       "      <th>134</th>\n",
       "      <td>200</td>\n",
       "      <td>2018</td>\n",
       "      <td>July</td>\n",
       "      <td>9189.04</td>\n",
       "      <td>53</td>\n",
       "    </tr>\n",
       "  </tbody>\n",
       "</table>\n",
       "<p>135 rows × 5 columns</p>\n",
       "</div>"
      ],
      "text/plain": [
       "     _id  YEAR      MONTH   INCOME  FACTORY_ID\n",
       "0      1  2018       June  4064.90         100\n",
       "1      2  2021   November  8194.56          85\n",
       "2      4  2018     August  7087.10          53\n",
       "3      6  2023       June  6787.37          77\n",
       "4      8  2023      March  5555.86          11\n",
       "..   ...   ...        ...      ...         ...\n",
       "130  194  2023   December  6368.01          60\n",
       "131  196  2021  September  9967.93          34\n",
       "132  198  2020    October  9361.87          79\n",
       "133  199  2023        May  4940.86          98\n",
       "134  200  2018       July  9189.04          53\n",
       "\n",
       "[135 rows x 5 columns]"
      ]
     },
     "execution_count": 9,
     "metadata": {},
     "output_type": "execute_result"
    }
   ],
   "source": [
    "pd.DataFrame(Sales.find( { \"$expr\": { \"$gt\": [ \"$INCOME\" , 4000 ] } } ))"
   ]
  },
  {
   "cell_type": "code",
   "execution_count": 41,
   "id": "7e2afd9e-2141-48ad-839f-5659569f562a",
   "metadata": {},
   "outputs": [
    {
     "name": "stdout",
     "output_type": "stream",
     "text": [
      "{'_id': 45, 'COLLISION_TEST': 6, 'SAFETY_CLASS': 9, 'BODY_DURABILITY': 0.69, 'BRAKES_EFFICIENCE': 0.64, 'ACCEPTANCE_DATE': datetime.datetime(2024, 10, 20, 0, 0)}\n",
      "{'_id': 67, 'COLLISION_TEST': 4, 'SAFETY_CLASS': 5, 'BODY_DURABILITY': 0.55, 'BRAKES_EFFICIENCE': 0.79, 'ACCEPTANCE_DATE': datetime.datetime(2024, 10, 21, 0, 0)}\n",
      "{'_id': 77, 'COLLISION_TEST': 8, 'SAFETY_CLASS': 8, 'BODY_DURABILITY': 0.02, 'BRAKES_EFFICIENCE': 0.11, 'ACCEPTANCE_DATE': datetime.datetime(2024, 10, 24, 0, 0)}\n",
      "{'_id': 300, 'COLLISION_TEST': 3, 'SAFETY_CLASS': 8, 'BODY_DURABILITY': 0.74, 'BRAKES_EFFICIENCE': 0.78, 'ACCEPTANCE_DATE': datetime.datetime(2024, 10, 27, 0, 0)}\n",
      "{'_id': 414, 'COLLISION_TEST': 3, 'SAFETY_CLASS': 6, 'BODY_DURABILITY': 0.63, 'BRAKES_EFFICIENCE': 0.19, 'ACCEPTANCE_DATE': datetime.datetime(2024, 10, 29, 0, 0)}\n",
      "{'_id': 452, 'COLLISION_TEST': 1, 'SAFETY_CLASS': 7, 'BODY_DURABILITY': 0.91, 'BRAKES_EFFICIENCE': 0.28, 'ACCEPTANCE_DATE': datetime.datetime(2024, 10, 26, 0, 0)}\n"
     ]
    }
   ],
   "source": [
    "for x in Safety_Measurements.find({ \"$expr\": { \"$gt\": [ \"$ACCEPTANCE_DATE\" , datetime.datetime(2024, 10, 18, 0, 0) ] } }):\n",
    "    print(x)"
   ]
  },
  {
   "cell_type": "markdown",
   "id": "9904689d-dafd-4899-af4b-eb1b29bbced6",
   "metadata": {},
   "source": [
    "## Calculation and grouping query"
   ]
  },
  {
   "cell_type": "code",
   "execution_count": 58,
   "id": "de260e27-75c8-4129-804d-b37d1749fa71",
   "metadata": {},
   "outputs": [
    {
     "name": "stdout",
     "output_type": "stream",
     "text": [
      "    FACTORY_ID  total_income\n",
      "0           83       5969.18\n",
      "1           25      14927.91\n",
      "2           29       6803.90\n",
      "3           16       4747.20\n",
      "4           35       9119.47\n",
      "5           19       2575.24\n",
      "6           15      14172.98\n",
      "7           57       7853.94\n",
      "8           59       5595.56\n",
      "9           37       8850.09\n",
      "10          50       1236.68\n",
      "11          87       1608.08\n",
      "12         100       1568.79\n",
      "13          30       8660.00\n",
      "14           9       3034.90\n",
      "15          97       8394.63\n",
      "16          79       9361.87\n",
      "17          18       4480.40\n",
      "18          44       6648.42\n",
      "19          61       9934.36\n",
      "20          45       4821.08\n",
      "21          70       9879.20\n",
      "22          13       7640.05\n",
      "23          20      10233.56\n",
      "24           5       2672.41\n",
      "25          98       3156.23\n",
      "26          24       9847.15\n",
      "27          39       5161.32\n",
      "28          32       1091.18\n",
      "29          99      12044.37\n",
      "30          81      12876.93\n",
      "31          84       7916.84\n",
      "32          55       9603.61\n",
      "33           1      19027.68\n"
     ]
    }
   ],
   "source": [
    "pipeline = [\n",
    "    {\"$match\": {\"YEAR\": 2020}},  # Filtruj po YEAR i FACTORY_ID\n",
    "    {\"$group\": {\"_id\": \"$FACTORY_ID\", \"total_income\": {\"$sum\": \"$INCOME\"}}}  # Sumuj pole INCOME\n",
    "]\n",
    "\n",
    "result = list(Sales.aggregate(pipeline))\n",
    "\n",
    "df = pd.DataFrame(result)\n",
    "df.rename(columns={\"_id\": \"FACTORY_ID\"}, inplace=True)\n",
    "print(df)"
   ]
  },
  {
   "cell_type": "code",
   "execution_count": 63,
   "id": "be40fb28-1d50-409f-ad32-18fd10c5d320",
   "metadata": {},
   "outputs": [
    {
     "name": "stdout",
     "output_type": "stream",
     "text": [
      "    FACTORY_ID       SERIALNUMBER PRODUCTION_DATE  FACTORY_ID  SKU_ID  \\\n",
      "0            2  WAULFAFR3BA954663      2023-12-03          18      90   \n",
      "1           15  2T1BURHE7FC517814      2023-12-10          28       9   \n",
      "2           32  WAUPEAFM5BA740203      2023-12-18          19      69   \n",
      "3           37  WAUBGAFC9CN197945      2023-12-02          53      63   \n",
      "4           40  JN8AF5MV8FT400079      2023-12-07           5      88   \n",
      "5           49  19UYA42523A410413      2023-11-14          77      84   \n",
      "6           54  5GAKRBKD8FJ953750      2024-01-10          17      47   \n",
      "7           63  WAUAFAFH5DN808436      2023-12-13          40      14   \n",
      "8           80  2C3CDXFG1EH664426      2024-01-13          19      23   \n",
      "9           86  5LMJJ3H53DE514493      2023-10-19          80      46   \n",
      "10          87  WBASN0C5XDD890469      2023-12-10          30      33   \n",
      "11         113  WBA3C1C59FP369213      2023-11-02          66      72   \n",
      "12         137  1G6AK5S39D0846848      2024-01-07         100       5   \n",
      "13         164  JTDKDTB36C1580813      2023-11-28          45      22   \n",
      "14         670  YV1902FH6B2556010      2023-11-22          97      93   \n",
      "15         171  JTHBL5EF7C5922507      2023-10-30          92      14   \n",
      "16         178  1G6AB5S39D0673686      2024-01-12          91      94   \n",
      "17         214  19VDE3F75EE333116      2023-11-12          24      90   \n",
      "18         245  WP0CB2A81CS577068      2023-10-20          67      54   \n",
      "19         258  1G4PP5SKXD4643424      2023-11-20          29      55   \n",
      "20         265  1GYS4AKJ5FR484383      2023-12-02          66      59   \n",
      "21         266  JN1CV6EK7EM347226      2024-01-05          19      70   \n",
      "22         268  JTDKN3DU1B0209873      2023-11-22          76      79   \n",
      "23         288  WBAEW53433P869779      2023-11-19          21       5   \n",
      "24         301  SAJWA6AT5F8967038      2023-12-12           8      29   \n",
      "25         313  WAUFMAFC5EN235958      2023-11-13          78      82   \n",
      "26         338  1HGCR6F5XEA729490      2023-11-25          70      36   \n",
      "27         361  JTDKN3DP6F3857479      2023-12-06           7      52   \n",
      "28         378  2G4WF551321230528      2023-11-19          13      68   \n",
      "29         382  1G6DB8E52E0954516      2023-12-13          98      89   \n",
      "30         385  1N4AA5AP1CC235316      2023-11-13          76      85   \n",
      "31         390  JH4DC43591S309140      2023-10-28          15      51   \n",
      "32         429  WAURVAFA4AN347704      2023-12-17          63      15   \n",
      "33         440  5N1AR2MM5EC607709      2024-01-13          77      36   \n",
      "34         455  1GYS3DEF3ER630404      2023-10-26           6       6   \n",
      "35         505  5BZAF0AA3FN461876      2024-01-02           6      30   \n",
      "36         508  1D7CW2GK4AS352878      2023-10-29          87      89   \n",
      "37         512  1N6AA0CH4EN084804      2023-11-23          67      85   \n",
      "38         513  WA1AY94L98D066079      2023-11-19          97      65   \n",
      "39         535  2G4GS5EV0C9150674      2023-11-30           7      70   \n",
      "40         539  JM1GJ1T55E1336933      2023-11-28          26      87   \n",
      "41         572  1G4GB5EG2AF981356      2023-12-25          89      73   \n",
      "42         612  KMHGC4DE3AU186870      2023-12-25          32      85   \n",
      "\n",
      "    S_MEASURE_ID  \n",
      "0            411  \n",
      "1            313  \n",
      "2            559  \n",
      "3            268  \n",
      "4            288  \n",
      "5            409  \n",
      "6            199  \n",
      "7            580  \n",
      "8            396  \n",
      "9            236  \n",
      "10           420  \n",
      "11           690  \n",
      "12           568  \n",
      "13           592  \n",
      "14           587  \n",
      "15            31  \n",
      "16           450  \n",
      "17           173  \n",
      "18           511  \n",
      "19           332  \n",
      "20           637  \n",
      "21           649  \n",
      "22           487  \n",
      "23           162  \n",
      "24           556  \n",
      "25           520  \n",
      "26           522  \n",
      "27           102  \n",
      "28           156  \n",
      "29           176  \n",
      "30           608  \n",
      "31           130  \n",
      "32           236  \n",
      "33           327  \n",
      "34           364  \n",
      "35           619  \n",
      "36           365  \n",
      "37           155  \n",
      "38           591  \n",
      "39           115  \n",
      "40           562  \n",
      "41           248  \n",
      "42           181  \n"
     ]
    }
   ],
   "source": [
    "pipeline = [\n",
    "    {\"$match\": { \"$expr\": { \"$gt\": [ \"$PRODUCTION_DATE\" , datetime.datetime(2023, 10, 18, 0, 0) ] } }}\n",
    "]\n",
    "\n",
    "result = list(Stock.aggregate(pipeline))\n",
    "\n",
    "df = pd.DataFrame(result)\n",
    "df.rename(columns={\"_id\": \"FACTORY_ID\"}, inplace=True)\n",
    "print(df)"
   ]
  },
  {
   "cell_type": "code",
   "execution_count": 78,
   "id": "524d7559-9ba2-44a2-8432-da0eacb77552",
   "metadata": {},
   "outputs": [
    {
     "name": "stdout",
     "output_type": "stream",
     "text": [
      "     SUPP_ID  Absolute_Cost\n",
      "0        147        1060.47\n",
      "1         89        1675.56\n",
      "2         96         862.66\n",
      "3          4        1386.17\n",
      "4        120         914.03\n",
      "..       ...            ...\n",
      "142       97        3642.59\n",
      "143       98        1549.61\n",
      "144       13        2502.22\n",
      "145       47         629.64\n",
      "146       45         527.70\n",
      "\n",
      "[147 rows x 2 columns]\n"
     ]
    }
   ],
   "source": [
    "pipeline = [\n",
    "    {\"$group\": {\"_id\": \"$SUPP_ID\", \"Absolute_Cost\": {\"$sum\": \"$COST\"}}}  # Sumuj pole INCOME\n",
    "]\n",
    "\n",
    "result = list(Parts.aggregate(pipeline))\n",
    "\n",
    "df = pd.DataFrame(result)\n",
    "df.rename(columns={\"_id\": \"SUPP_ID\"}, inplace=True)\n",
    "print(df)"
   ]
  },
  {
   "cell_type": "code",
   "execution_count": 77,
   "id": "99834a0d-4f49-4efb-8481-9269dc180704",
   "metadata": {},
   "outputs": [
    {
     "name": "stdout",
     "output_type": "stream",
     "text": [
      "    ASSIGNED_SHIFT_ID  Number of workers\n",
      "0                  30                  4\n",
      "1                   1                  6\n",
      "2                  25                  3\n",
      "3                   9                  1\n",
      "4                   8                  1\n",
      "5                  18                  3\n",
      "6                  17                  1\n",
      "7                  27                  3\n",
      "8                  10                  2\n",
      "9                  16                  3\n",
      "10                 21                  3\n",
      "11                 29                  1\n",
      "12                 11                  2\n",
      "13                 13                  1\n",
      "14                  5                  5\n",
      "15                 12                  1\n",
      "16                  7                  1\n",
      "17                 15                  2\n",
      "18                 20                  3\n",
      "19                  3                  1\n",
      "20                 19                  2\n",
      "21                  4                  2\n",
      "22                 23                  2\n",
      "23                 14                  4\n",
      "24                 28                  3\n",
      "25                  2                  5\n"
     ]
    }
   ],
   "source": [
    "pipeline = [\n",
    "    {\"$match\": { \"SURNAME\": { \"$regex\": \"^C\" }}},\n",
    "    {\"$group\": {\"_id\": \"$ASSIGNED_SHIFT_ID\", \"Number of workers\": {\"$sum\": 1} }}\n",
    "]\n",
    "\n",
    "result = list(Employees.aggregate(pipeline))\n",
    "\n",
    "df = pd.DataFrame(result)\n",
    "df.rename(columns={\"_id\": \"ASSIGNED_SHIFT_ID\"}, inplace=True)\n",
    "print(df)"
   ]
  },
  {
   "cell_type": "code",
   "execution_count": 80,
   "id": "76d3bd4d-1c2f-46d2-a728-652e1eee0e9b",
   "metadata": {},
   "outputs": [],
   "source": [
    "client.list_database_names()\n",
    "client.drop_database(\"Factory\")"
   ]
  },
  {
   "cell_type": "code",
   "execution_count": null,
   "id": "ff25cad8-768f-48df-95a3-7881986cdc3f",
   "metadata": {},
   "outputs": [],
   "source": []
  }
 ],
 "metadata": {
  "kernelspec": {
   "display_name": "Python 3 (ipykernel)",
   "language": "python",
   "name": "python3"
  },
  "language_info": {
   "codemirror_mode": {
    "name": "ipython",
    "version": 3
   },
   "file_extension": ".py",
   "mimetype": "text/x-python",
   "name": "python",
   "nbconvert_exporter": "python",
   "pygments_lexer": "ipython3",
   "version": "3.9.20"
  }
 },
 "nbformat": 4,
 "nbformat_minor": 5
}
