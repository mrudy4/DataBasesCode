{
 "cells": [
  {
   "cell_type": "code",
   "execution_count": 2,
   "id": "a9519fdb-6ca8-4b2a-8516-8b10589af3d7",
   "metadata": {},
   "outputs": [],
   "source": [
    "import redis\n",
    "import numpy as np\n",
    "import pandas as pd\n",
    "import matplotlib.pyplot as plt\n",
    "import cx_Oracle\n",
    "import pickle\n"
   ]
  },
  {
   "cell_type": "code",
   "execution_count": 3,
   "id": "18f1725a-bb65-4280-a42b-7576b80e682c",
   "metadata": {},
   "outputs": [],
   "source": [
    "# połączenie z bazą Redis\n",
    "r = redis.Redis(host='localhost', port=6379, db=0)\n"
   ]
  },
  {
   "cell_type": "code",
   "execution_count": 4,
   "id": "1faeefdc-c968-48f3-8e5c-c0959697cd60",
   "metadata": {},
   "outputs": [],
   "source": [
    "# połączenie z bazą Oracle\n",
    "connection = cx_Oracle.connect(user=\"s108261\", password=\"s108261\",\n",
    "                               dsn=\"217.173.198.135:1521/tpdb\")\n",
    "cursor = connection.cursor()\n",
    "cursor.execute(\"ALTER SESSION SET nls_date_format='YYYY-MM-DD'\")"
   ]
  },
  {
   "cell_type": "code",
   "execution_count": 44,
   "id": "a2c013e7-a6ee-48a5-9e86-7c98cf33376c",
   "metadata": {},
   "outputs": [],
   "source": [
    "factory = 'Hybrid Oak'\n",
    "dateS = '2020-11-30'\n",
    "dateT = '2023-11-30'\n",
    "\n",
    "name = \"Karol\"\n",
    "surname = \"Strognell\""
   ]
  },
  {
   "cell_type": "markdown",
   "id": "d16ae167-8546-4866-841c-ee057f3ef753",
   "metadata": {},
   "source": [
    "1 przykład - optymalizacja wyciągania danych ze Stocku."
   ]
  },
  {
   "cell_type": "code",
   "execution_count": 15,
   "id": "6bb5d656-2b5c-4aec-8d56-3bc4261eb292",
   "metadata": {},
   "outputs": [],
   "source": [
    "def getOracleStock(factory, dateS, dateT):\n",
    "    querry = f\"select * from STOCK INNER JOIN Factories on STOCK.factory_ID = Factories.factory_ID \" \\\n",
    "           + f\"where name = '{factory}' and PRODUCTION_DATE < '{dateT}' and \" \\\n",
    "           + f\"PRODUCTION_DATE > '{dateS}'\"\n",
    "    data = pd.read_sql(querry,connection)\n",
    "    data = pickle.dumps(data)\n",
    "    #dump\n",
    "    return data\n",
    "\n",
    "def sendToCache(index, data):\n",
    "    try:\n",
    "        r.set(index, data)\n",
    "        print(\"success\")\n",
    "        return 0\n",
    "    except:\n",
    "        print(\"failed\")\n",
    "        return 1\n",
    "\n",
    "def getStockData(factory, dateS, dateT):\n",
    "    index = (factory+\":\"+dateS+\"-\"+dateT)\n",
    "    data = r.get(index)\n",
    "    if data:\n",
    "        print(\"Taken from Cache\")\n",
    "        #dump\n",
    "        data = pickle.loads(data)\n",
    "        return data\n",
    "\n",
    "    else:\n",
    "        data = getOracleStock(factory, dateS, dateT)\n",
    "        sendToCache(index, data)\n",
    "        print(\"Taken from Ocarle DB, pushed to cache\")\n",
    "        #dump\n",
    "        data = pickle.loads(data)\n",
    "        return data\n",
    "    \n",
    "    \n",
    "    \n",
    "    "
   ]
  },
  {
   "cell_type": "code",
   "execution_count": 22,
   "id": "40993de1-e316-4bb0-9fe9-cdf0afc095db",
   "metadata": {},
   "outputs": [
    {
     "name": "stdout",
     "output_type": "stream",
     "text": [
      "success\n",
      "Taken from Ocarle DB, pushed to cache\n",
      "<class 'pandas.core.frame.DataFrame'>\n",
      "   SERIALNUMBER_ID       SERIALNUMBER PRODUCTION_DATE  FACTORY_ID  SKU_ID  \\\n",
      "0              653  JN8AF5MR7CT853222      2023-04-26           2      74   \n",
      "1              273  WBA3F9C56DF392859      2023-08-20           2      71   \n",
      "2              306  WAUJC58E33A414233      2023-03-11           2      49   \n",
      "\n",
      "   S_MEASURE_ID  FACTORY_ID             NAME COUNTRY POSTAL_CODE       CITY  \n",
      "0           351           2  Blunt Spikerush  Poland      82-230  Nowy Staw  \n",
      "1           409           2  Blunt Spikerush  Poland      82-230  Nowy Staw  \n",
      "2           235           2  Blunt Spikerush  Poland      82-230  Nowy Staw  \n"
     ]
    }
   ],
   "source": [
    "newData = getStockData(factory, dateS, dateT)\n",
    "print(type(newData))\n",
    "print(newData)"
   ]
  },
  {
   "cell_type": "markdown",
   "id": "fe0ff645-b6c8-4146-a059-2b5cbce1291f",
   "metadata": {},
   "source": [
    "2 przykład - wyciąganie danych z tabeli Employees - stanowisko"
   ]
  },
  {
   "cell_type": "code",
   "execution_count": 23,
   "id": "036e7586-2111-4da8-b020-ef6c90b86879",
   "metadata": {},
   "outputs": [],
   "source": [
    "def getOracleEmpPos(name, surname):\n",
    "    querry = f\"SELECT employees.name, employees.surname, employees.position, factories.name AS factoryName FROM EMPLOYEES\" \\\n",
    "         f\" INNER JOIN Factories on EMPLOYEES.factory_ID = Factories.factory_ID\" \\\n",
    "         f\" WHERE employees.name = '{name}' AND employees.surname = '{surname}'\"\n",
    "    data = pd.read_sql(querry,connection)\n",
    "    data = pickle.dumps(data)\n",
    "    return data\n",
    "\n",
    "def getEmpPosData(name, surname):\n",
    "    index = (name+\":\"+surname)\n",
    "    data = r.get(index)\n",
    "    if data:\n",
    "        print(\"Taken from Cache\")\n",
    "        data = pickle.loads(data)\n",
    "        return data\n",
    "\n",
    "    else:\n",
    "        data = getOracleEmpPos(name, surname)\n",
    "        sendToCache(index, data)\n",
    "        print(\"Taken from Ocarle DB, pushed to cache\")\n",
    "        data = pickle.loads(data)\n",
    "        return data\n",
    "\n"
   ]
  },
  {
   "cell_type": "code",
   "execution_count": 29,
   "id": "1b44a465-af73-4c3d-b98d-d0282ee2f3ff",
   "metadata": {},
   "outputs": [
    {
     "name": "stdout",
     "output_type": "stream",
     "text": [
      "Taken from Cache\n",
      "<class 'pandas.core.frame.DataFrame'>\n",
      "    NAME    SURNAME  POSITION          FACTORYNAME\n",
      "0  Karol  Strognell  security  Woodland Islandfern\n"
     ]
    }
   ],
   "source": [
    "newData = getEmpPosData(name,surname)\n",
    "print(type(newData))\n",
    "print(newData)"
   ]
  },
  {
   "cell_type": "markdown",
   "id": "9676c1da-5b8f-4107-9f38-52ab85461b80",
   "metadata": {},
   "source": [
    "3 przykład - wyciągany sprzedaży dla fabryk"
   ]
  },
  {
   "cell_type": "code",
   "execution_count": 37,
   "id": "ab003936-6332-456c-ba2d-790cc9a591c2",
   "metadata": {},
   "outputs": [],
   "source": [
    "def getOracleSales(factory):\n",
    "    querry = f\"SELECT AVG(INCOME), SALES.YEAR, Factories.name AS FactoryName FROM SALES\" \\\n",
    "            f\" INNER JOIN Factories on SALES.factory_ID = Factories.factory_ID\" \\\n",
    "            f\" WHERE Factories.name = '{factory}'\" \\\n",
    "            f\" GROUP BY Factories.name, SALES.YEAR\"\n",
    "    data = pd.read_sql(querry,connection)\n",
    "    data = pickle.dumps(data)\n",
    "    return data\n",
    "\n",
    "def getSalesData(factory):\n",
    "    index = (factory)\n",
    "    data = r.get(index)\n",
    "    if data:\n",
    "        print(\"Taken from Cache\")\n",
    "        data = pickle.loads(data)\n",
    "        return data\n",
    "\n",
    "    else:\n",
    "        data = getOracleSales(factory)\n",
    "        sendToCache(index, data)\n",
    "        print(\"Taken from Ocarle DB, pushed to cache\")\n",
    "        data = pickle.loads(data)\n",
    "        return data"
   ]
  },
  {
   "cell_type": "code",
   "execution_count": 49,
   "id": "033ff9e8-29f5-402f-9ffc-d7cde6f4383b",
   "metadata": {},
   "outputs": [
    {
     "name": "stdout",
     "output_type": "stream",
     "text": [
      "Taken from Cache\n"
     ]
    },
    {
     "data": {
      "text/html": [
       "<div>\n",
       "<style scoped>\n",
       "    .dataframe tbody tr th:only-of-type {\n",
       "        vertical-align: middle;\n",
       "    }\n",
       "\n",
       "    .dataframe tbody tr th {\n",
       "        vertical-align: top;\n",
       "    }\n",
       "\n",
       "    .dataframe thead th {\n",
       "        text-align: right;\n",
       "    }\n",
       "</style>\n",
       "<table border=\"1\" class=\"dataframe\">\n",
       "  <thead>\n",
       "    <tr style=\"text-align: right;\">\n",
       "      <th></th>\n",
       "      <th>AVG(INCOME)</th>\n",
       "      <th>YEAR</th>\n",
       "      <th>FACTORYNAME</th>\n",
       "    </tr>\n",
       "  </thead>\n",
       "  <tbody>\n",
       "    <tr>\n",
       "      <th>0</th>\n",
       "      <td>2063.06</td>\n",
       "      <td>2021</td>\n",
       "      <td>Hybrid Oak</td>\n",
       "    </tr>\n",
       "    <tr>\n",
       "      <th>1</th>\n",
       "      <td>4490.29</td>\n",
       "      <td>2022</td>\n",
       "      <td>Hybrid Oak</td>\n",
       "    </tr>\n",
       "    <tr>\n",
       "      <th>2</th>\n",
       "      <td>5116.78</td>\n",
       "      <td>2020</td>\n",
       "      <td>Hybrid Oak</td>\n",
       "    </tr>\n",
       "  </tbody>\n",
       "</table>\n",
       "</div>"
      ],
      "text/plain": [
       "   AVG(INCOME)  YEAR FACTORYNAME\n",
       "0      2063.06  2021  Hybrid Oak\n",
       "1      4490.29  2022  Hybrid Oak\n",
       "2      5116.78  2020  Hybrid Oak"
      ]
     },
     "execution_count": 49,
     "metadata": {},
     "output_type": "execute_result"
    }
   ],
   "source": [
    "nes = getSalesData(factory)\n",
    "nes"
   ]
  },
  {
   "cell_type": "code",
   "execution_count": 50,
   "id": "5620d29b-6320-4e74-919e-5eb58e07fb36",
   "metadata": {},
   "outputs": [
    {
     "data": {
      "text/plain": [
       "True"
      ]
     },
     "execution_count": 50,
     "metadata": {},
     "output_type": "execute_result"
    }
   ],
   "source": [
    "r.flushdb()"
   ]
  },
  {
   "cell_type": "code",
   "execution_count": null,
   "id": "19844dc1-ddef-4730-979f-420e87bc3b86",
   "metadata": {},
   "outputs": [],
   "source": []
  }
 ],
 "metadata": {
  "kernelspec": {
   "display_name": "Python 3 (ipykernel)",
   "language": "python",
   "name": "python3"
  },
  "language_info": {
   "codemirror_mode": {
    "name": "ipython",
    "version": 3
   },
   "file_extension": ".py",
   "mimetype": "text/x-python",
   "name": "python",
   "nbconvert_exporter": "python",
   "pygments_lexer": "ipython3",
   "version": "3.9.20"
  }
 },
 "nbformat": 4,
 "nbformat_minor": 5
}
